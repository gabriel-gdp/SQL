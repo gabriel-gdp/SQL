{
  "cells": [
    {
      "cell_type": "markdown",
      "source": [
        "# SQLite, SQL e Pandas"
      ],
      "metadata": {
        "id": "AVNA35dPlL4o"
      }
    },
    {
      "cell_type": "markdown",
      "metadata": {
        "id": "2081f07a-0377-48a5-b3b7-51713588b2fc"
      },
      "source": [
        "La città di Chicago ha rilasciato un dataset di dati socioeconomici nel Chicago City Portal. Questo dataset contiene una selezione di sei indicatori socioeconomici di rilevanza per la salute pubblica e un indice di difficoltà (hardship index) per ciascuna area comunitaria di Chicago, relativo agli anni 2008-2012.\n",
        "I punteggi dell'indice di difficoltà variano da 1 a 100, dove un valore più alto indica un livello maggiore di difficoltà.\n",
        "\n",
        "\n",
        "Una descrizione dettagliata del dataset è disponibile sul [sito della città di Chicago](https://data.cityofchicago.org/)."
      ]
    },
    {
      "cell_type": "code",
      "metadata": {
        "id": "9c4da388-e723-4ea7-9daf-f793a0b34f09",
        "colab": {
          "base_uri": "https://localhost:8080/"
        },
        "outputId": "ebd78204-2037-4f5f-a112-ed4cd981f8f5"
      },
      "outputs": [
        {
          "output_type": "stream",
          "name": "stdout",
          "text": [
            "The sql extension is already loaded. To reload it, use:\n",
            "  %reload_ext sql\n"
          ]
        }
      ],
      "source": [
        "import sqlite3\n",
        "%load_ext sql\n",
        "con = sqlite3.connect(\"socioeconomic.db\")  # connessione\n",
        "cur = con.cursor()  # cursore\n",
        "%sql sqlite:///socioeconomic.db"
      ],
      "execution_count": 69
    },
    {
      "cell_type": "markdown",
      "metadata": {
        "id": "2e009b5d-9126-4c89-9ade-6a307a5fabff"
      },
      "source": [
        "Leggo il dataset come csv con pandas.read_csv e poi lo converto in una tabella con il modulo to_sql per poterlo poi analizzare con SQL"
      ]
    },
    {
      "cell_type": "code",
      "metadata": {
        "id": "ac7cc60d-7867-4c3f-8de0-83ea4282afa0",
        "colab": {
          "base_uri": "https://localhost:8080/"
        },
        "outputId": "b7ab7332-227a-46ca-a738-0a99c28f4a59"
      },
      "outputs": [
        {
          "output_type": "execute_result",
          "data": {
            "text/plain": [
              "78"
            ]
          },
          "metadata": {},
          "execution_count": 70
        }
      ],
      "source": [
        "import pandas\n",
        "df = pandas.read_csv('https://data.cityofchicago.org/resource/jcxq-k9xf.csv')\n",
        "df.to_sql(\"chicago_socioeconomic_data\", con, if_exists='replace', index=False, method=\"multi\")"
      ],
      "execution_count": 70
    },
    {
      "cell_type": "code",
      "metadata": {
        "id": "328b221a-8cf8-4125-a4f7-d3560e01b217",
        "colab": {
          "base_uri": "https://localhost:8080/"
        },
        "outputId": "30782755-ed36-47d2-a207-2d244b57cbdb"
      },
      "outputs": [
        {
          "output_type": "stream",
          "name": "stdout",
          "text": [
            "Requirement already satisfied: ipython-sql in /usr/local/lib/python3.11/dist-packages (0.5.0)\n",
            "Requirement already satisfied: prettytable in /usr/local/lib/python3.11/dist-packages (3.15.1)\n",
            "Requirement already satisfied: ipython in /usr/local/lib/python3.11/dist-packages (from ipython-sql) (7.34.0)\n",
            "Requirement already satisfied: sqlalchemy>=2.0 in /usr/local/lib/python3.11/dist-packages (from ipython-sql) (2.0.38)\n",
            "Requirement already satisfied: sqlparse in /usr/local/lib/python3.11/dist-packages (from ipython-sql) (0.5.3)\n",
            "Requirement already satisfied: six in /usr/local/lib/python3.11/dist-packages (from ipython-sql) (1.17.0)\n",
            "Requirement already satisfied: ipython-genutils in /usr/local/lib/python3.11/dist-packages (from ipython-sql) (0.2.0)\n",
            "Requirement already satisfied: wcwidth in /usr/local/lib/python3.11/dist-packages (from prettytable) (0.2.13)\n",
            "Requirement already satisfied: greenlet!=0.4.17 in /usr/local/lib/python3.11/dist-packages (from sqlalchemy>=2.0->ipython-sql) (3.1.1)\n",
            "Requirement already satisfied: typing-extensions>=4.6.0 in /usr/local/lib/python3.11/dist-packages (from sqlalchemy>=2.0->ipython-sql) (4.12.2)\n",
            "Requirement already satisfied: setuptools>=18.5 in /usr/local/lib/python3.11/dist-packages (from ipython->ipython-sql) (75.1.0)\n",
            "Requirement already satisfied: jedi>=0.16 in /usr/local/lib/python3.11/dist-packages (from ipython->ipython-sql) (0.19.2)\n",
            "Requirement already satisfied: decorator in /usr/local/lib/python3.11/dist-packages (from ipython->ipython-sql) (4.4.2)\n",
            "Requirement already satisfied: pickleshare in /usr/local/lib/python3.11/dist-packages (from ipython->ipython-sql) (0.7.5)\n",
            "Requirement already satisfied: traitlets>=4.2 in /usr/local/lib/python3.11/dist-packages (from ipython->ipython-sql) (5.7.1)\n",
            "Requirement already satisfied: prompt-toolkit!=3.0.0,!=3.0.1,<3.1.0,>=2.0.0 in /usr/local/lib/python3.11/dist-packages (from ipython->ipython-sql) (3.0.50)\n",
            "Requirement already satisfied: pygments in /usr/local/lib/python3.11/dist-packages (from ipython->ipython-sql) (2.18.0)\n",
            "Requirement already satisfied: backcall in /usr/local/lib/python3.11/dist-packages (from ipython->ipython-sql) (0.2.0)\n",
            "Requirement already satisfied: matplotlib-inline in /usr/local/lib/python3.11/dist-packages (from ipython->ipython-sql) (0.1.7)\n",
            "Requirement already satisfied: pexpect>4.3 in /usr/local/lib/python3.11/dist-packages (from ipython->ipython-sql) (4.9.0)\n",
            "Requirement already satisfied: parso<0.9.0,>=0.8.4 in /usr/local/lib/python3.11/dist-packages (from jedi>=0.16->ipython->ipython-sql) (0.8.4)\n",
            "Requirement already satisfied: ptyprocess>=0.5 in /usr/local/lib/python3.11/dist-packages (from pexpect>4.3->ipython->ipython-sql) (0.7.0)\n"
          ]
        }
      ],
      "source": [
        "!pip install ipython-sql prettytable\n",
        "import prettytable\n",
        "prettytable.DEFAULT = 'DEFAULT'"
      ],
      "execution_count": 71
    },
    {
      "cell_type": "code",
      "metadata": {
        "id": "32234b33-d442-4e75-b14a-a3a59af20bbb",
        "colab": {
          "base_uri": "https://localhost:8080/",
          "height": 199
        },
        "outputId": "dc40f9ea-43ac-4c5c-95a1-35925b7e5e41"
      },
      "outputs": [
        {
          "output_type": "stream",
          "name": "stdout",
          "text": [
            " * sqlite:///socioeconomic.db\n",
            "Done.\n"
          ]
        },
        {
          "output_type": "execute_result",
          "data": {
            "text/plain": [
              "[(1.0, 'Rogers Park', 7.7, 23.6, 8.7, 18.2, 27.5, 23939, 39.0),\n",
              " (2.0, 'West Ridge', 7.8, 17.2, 8.8, 20.8, 38.5, 23040, 46.0),\n",
              " (3.0, 'Uptown', 3.8, 24.0, 8.9, 11.8, 22.2, 35787, 20.0),\n",
              " (4.0, 'Lincoln Square', 3.4, 10.9, 8.2, 13.4, 25.5, 37524, 17.0),\n",
              " (5.0, 'North Center', 0.3, 7.5, 5.2, 4.5, 26.2, 57123, 6.0)]"
            ],
            "text/html": [
              "<table>\n",
              "    <thead>\n",
              "        <tr>\n",
              "            <th>ca</th>\n",
              "            <th>community_area_name</th>\n",
              "            <th>percent_of_housing_crowded</th>\n",
              "            <th>percent_households_below_poverty</th>\n",
              "            <th>percent_aged_16_unemployed</th>\n",
              "            <th>percent_aged_25_without_high_school_diploma</th>\n",
              "            <th>percent_aged_under_18_or_over_64</th>\n",
              "            <th>per_capita_income_</th>\n",
              "            <th>hardship_index</th>\n",
              "        </tr>\n",
              "    </thead>\n",
              "    <tbody>\n",
              "        <tr>\n",
              "            <td>1.0</td>\n",
              "            <td>Rogers Park</td>\n",
              "            <td>7.7</td>\n",
              "            <td>23.6</td>\n",
              "            <td>8.7</td>\n",
              "            <td>18.2</td>\n",
              "            <td>27.5</td>\n",
              "            <td>23939</td>\n",
              "            <td>39.0</td>\n",
              "        </tr>\n",
              "        <tr>\n",
              "            <td>2.0</td>\n",
              "            <td>West Ridge</td>\n",
              "            <td>7.8</td>\n",
              "            <td>17.2</td>\n",
              "            <td>8.8</td>\n",
              "            <td>20.8</td>\n",
              "            <td>38.5</td>\n",
              "            <td>23040</td>\n",
              "            <td>46.0</td>\n",
              "        </tr>\n",
              "        <tr>\n",
              "            <td>3.0</td>\n",
              "            <td>Uptown</td>\n",
              "            <td>3.8</td>\n",
              "            <td>24.0</td>\n",
              "            <td>8.9</td>\n",
              "            <td>11.8</td>\n",
              "            <td>22.2</td>\n",
              "            <td>35787</td>\n",
              "            <td>20.0</td>\n",
              "        </tr>\n",
              "        <tr>\n",
              "            <td>4.0</td>\n",
              "            <td>Lincoln Square</td>\n",
              "            <td>3.4</td>\n",
              "            <td>10.9</td>\n",
              "            <td>8.2</td>\n",
              "            <td>13.4</td>\n",
              "            <td>25.5</td>\n",
              "            <td>37524</td>\n",
              "            <td>17.0</td>\n",
              "        </tr>\n",
              "        <tr>\n",
              "            <td>5.0</td>\n",
              "            <td>North Center</td>\n",
              "            <td>0.3</td>\n",
              "            <td>7.5</td>\n",
              "            <td>5.2</td>\n",
              "            <td>4.5</td>\n",
              "            <td>26.2</td>\n",
              "            <td>57123</td>\n",
              "            <td>6.0</td>\n",
              "        </tr>\n",
              "    </tbody>\n",
              "</table>"
            ]
          },
          "metadata": {},
          "execution_count": 72
        }
      ],
      "source": [
        "# Vediamo la tabella creata\n",
        "%sql SELECT * FROM chicago_socioeconomic_data limit 5;"
      ],
      "execution_count": 72
    },
    {
      "cell_type": "code",
      "source": [
        "display(df.head())\n",
        "print(f'Colonne: {df.columns}')"
      ],
      "metadata": {
        "colab": {
          "base_uri": "https://localhost:8080/",
          "height": 330
        },
        "id": "5HbpEn-EfNoS",
        "outputId": "d2d007a3-fbb5-430d-93f5-0282bc80d72d"
      },
      "execution_count": 73,
      "outputs": [
        {
          "output_type": "display_data",
          "data": {
            "text/plain": [
              "    ca community_area_name  percent_of_housing_crowded  \\\n",
              "0  1.0         Rogers Park                         7.7   \n",
              "1  2.0          West Ridge                         7.8   \n",
              "2  3.0              Uptown                         3.8   \n",
              "3  4.0      Lincoln Square                         3.4   \n",
              "4  5.0        North Center                         0.3   \n",
              "\n",
              "   percent_households_below_poverty  percent_aged_16_unemployed  \\\n",
              "0                              23.6                         8.7   \n",
              "1                              17.2                         8.8   \n",
              "2                              24.0                         8.9   \n",
              "3                              10.9                         8.2   \n",
              "4                               7.5                         5.2   \n",
              "\n",
              "   percent_aged_25_without_high_school_diploma  \\\n",
              "0                                         18.2   \n",
              "1                                         20.8   \n",
              "2                                         11.8   \n",
              "3                                         13.4   \n",
              "4                                          4.5   \n",
              "\n",
              "   percent_aged_under_18_or_over_64  per_capita_income_  hardship_index  \n",
              "0                              27.5               23939            39.0  \n",
              "1                              38.5               23040            46.0  \n",
              "2                              22.2               35787            20.0  \n",
              "3                              25.5               37524            17.0  \n",
              "4                              26.2               57123             6.0  "
            ],
            "text/html": [
              "\n",
              "  <div id=\"df-ebcbc1ab-09ea-429e-a36d-b78bc5cf231b\" class=\"colab-df-container\">\n",
              "    <div>\n",
              "<style scoped>\n",
              "    .dataframe tbody tr th:only-of-type {\n",
              "        vertical-align: middle;\n",
              "    }\n",
              "\n",
              "    .dataframe tbody tr th {\n",
              "        vertical-align: top;\n",
              "    }\n",
              "\n",
              "    .dataframe thead th {\n",
              "        text-align: right;\n",
              "    }\n",
              "</style>\n",
              "<table border=\"1\" class=\"dataframe\">\n",
              "  <thead>\n",
              "    <tr style=\"text-align: right;\">\n",
              "      <th></th>\n",
              "      <th>ca</th>\n",
              "      <th>community_area_name</th>\n",
              "      <th>percent_of_housing_crowded</th>\n",
              "      <th>percent_households_below_poverty</th>\n",
              "      <th>percent_aged_16_unemployed</th>\n",
              "      <th>percent_aged_25_without_high_school_diploma</th>\n",
              "      <th>percent_aged_under_18_or_over_64</th>\n",
              "      <th>per_capita_income_</th>\n",
              "      <th>hardship_index</th>\n",
              "    </tr>\n",
              "  </thead>\n",
              "  <tbody>\n",
              "    <tr>\n",
              "      <th>0</th>\n",
              "      <td>1.0</td>\n",
              "      <td>Rogers Park</td>\n",
              "      <td>7.7</td>\n",
              "      <td>23.6</td>\n",
              "      <td>8.7</td>\n",
              "      <td>18.2</td>\n",
              "      <td>27.5</td>\n",
              "      <td>23939</td>\n",
              "      <td>39.0</td>\n",
              "    </tr>\n",
              "    <tr>\n",
              "      <th>1</th>\n",
              "      <td>2.0</td>\n",
              "      <td>West Ridge</td>\n",
              "      <td>7.8</td>\n",
              "      <td>17.2</td>\n",
              "      <td>8.8</td>\n",
              "      <td>20.8</td>\n",
              "      <td>38.5</td>\n",
              "      <td>23040</td>\n",
              "      <td>46.0</td>\n",
              "    </tr>\n",
              "    <tr>\n",
              "      <th>2</th>\n",
              "      <td>3.0</td>\n",
              "      <td>Uptown</td>\n",
              "      <td>3.8</td>\n",
              "      <td>24.0</td>\n",
              "      <td>8.9</td>\n",
              "      <td>11.8</td>\n",
              "      <td>22.2</td>\n",
              "      <td>35787</td>\n",
              "      <td>20.0</td>\n",
              "    </tr>\n",
              "    <tr>\n",
              "      <th>3</th>\n",
              "      <td>4.0</td>\n",
              "      <td>Lincoln Square</td>\n",
              "      <td>3.4</td>\n",
              "      <td>10.9</td>\n",
              "      <td>8.2</td>\n",
              "      <td>13.4</td>\n",
              "      <td>25.5</td>\n",
              "      <td>37524</td>\n",
              "      <td>17.0</td>\n",
              "    </tr>\n",
              "    <tr>\n",
              "      <th>4</th>\n",
              "      <td>5.0</td>\n",
              "      <td>North Center</td>\n",
              "      <td>0.3</td>\n",
              "      <td>7.5</td>\n",
              "      <td>5.2</td>\n",
              "      <td>4.5</td>\n",
              "      <td>26.2</td>\n",
              "      <td>57123</td>\n",
              "      <td>6.0</td>\n",
              "    </tr>\n",
              "  </tbody>\n",
              "</table>\n",
              "</div>\n",
              "    <div class=\"colab-df-buttons\">\n",
              "\n",
              "  <div class=\"colab-df-container\">\n",
              "    <button class=\"colab-df-convert\" onclick=\"convertToInteractive('df-ebcbc1ab-09ea-429e-a36d-b78bc5cf231b')\"\n",
              "            title=\"Convert this dataframe to an interactive table.\"\n",
              "            style=\"display:none;\">\n",
              "\n",
              "  <svg xmlns=\"http://www.w3.org/2000/svg\" height=\"24px\" viewBox=\"0 -960 960 960\">\n",
              "    <path d=\"M120-120v-720h720v720H120Zm60-500h600v-160H180v160Zm220 220h160v-160H400v160Zm0 220h160v-160H400v160ZM180-400h160v-160H180v160Zm440 0h160v-160H620v160ZM180-180h160v-160H180v160Zm440 0h160v-160H620v160Z\"/>\n",
              "  </svg>\n",
              "    </button>\n",
              "\n",
              "  <style>\n",
              "    .colab-df-container {\n",
              "      display:flex;\n",
              "      gap: 12px;\n",
              "    }\n",
              "\n",
              "    .colab-df-convert {\n",
              "      background-color: #E8F0FE;\n",
              "      border: none;\n",
              "      border-radius: 50%;\n",
              "      cursor: pointer;\n",
              "      display: none;\n",
              "      fill: #1967D2;\n",
              "      height: 32px;\n",
              "      padding: 0 0 0 0;\n",
              "      width: 32px;\n",
              "    }\n",
              "\n",
              "    .colab-df-convert:hover {\n",
              "      background-color: #E2EBFA;\n",
              "      box-shadow: 0px 1px 2px rgba(60, 64, 67, 0.3), 0px 1px 3px 1px rgba(60, 64, 67, 0.15);\n",
              "      fill: #174EA6;\n",
              "    }\n",
              "\n",
              "    .colab-df-buttons div {\n",
              "      margin-bottom: 4px;\n",
              "    }\n",
              "\n",
              "    [theme=dark] .colab-df-convert {\n",
              "      background-color: #3B4455;\n",
              "      fill: #D2E3FC;\n",
              "    }\n",
              "\n",
              "    [theme=dark] .colab-df-convert:hover {\n",
              "      background-color: #434B5C;\n",
              "      box-shadow: 0px 1px 3px 1px rgba(0, 0, 0, 0.15);\n",
              "      filter: drop-shadow(0px 1px 2px rgba(0, 0, 0, 0.3));\n",
              "      fill: #FFFFFF;\n",
              "    }\n",
              "  </style>\n",
              "\n",
              "    <script>\n",
              "      const buttonEl =\n",
              "        document.querySelector('#df-ebcbc1ab-09ea-429e-a36d-b78bc5cf231b button.colab-df-convert');\n",
              "      buttonEl.style.display =\n",
              "        google.colab.kernel.accessAllowed ? 'block' : 'none';\n",
              "\n",
              "      async function convertToInteractive(key) {\n",
              "        const element = document.querySelector('#df-ebcbc1ab-09ea-429e-a36d-b78bc5cf231b');\n",
              "        const dataTable =\n",
              "          await google.colab.kernel.invokeFunction('convertToInteractive',\n",
              "                                                    [key], {});\n",
              "        if (!dataTable) return;\n",
              "\n",
              "        const docLinkHtml = 'Like what you see? Visit the ' +\n",
              "          '<a target=\"_blank\" href=https://colab.research.google.com/notebooks/data_table.ipynb>data table notebook</a>'\n",
              "          + ' to learn more about interactive tables.';\n",
              "        element.innerHTML = '';\n",
              "        dataTable['output_type'] = 'display_data';\n",
              "        await google.colab.output.renderOutput(dataTable, element);\n",
              "        const docLink = document.createElement('div');\n",
              "        docLink.innerHTML = docLinkHtml;\n",
              "        element.appendChild(docLink);\n",
              "      }\n",
              "    </script>\n",
              "  </div>\n",
              "\n",
              "\n",
              "<div id=\"df-a33d5f26-449a-4528-ab93-69f08d348d20\">\n",
              "  <button class=\"colab-df-quickchart\" onclick=\"quickchart('df-a33d5f26-449a-4528-ab93-69f08d348d20')\"\n",
              "            title=\"Suggest charts\"\n",
              "            style=\"display:none;\">\n",
              "\n",
              "<svg xmlns=\"http://www.w3.org/2000/svg\" height=\"24px\"viewBox=\"0 0 24 24\"\n",
              "     width=\"24px\">\n",
              "    <g>\n",
              "        <path d=\"M19 3H5c-1.1 0-2 .9-2 2v14c0 1.1.9 2 2 2h14c1.1 0 2-.9 2-2V5c0-1.1-.9-2-2-2zM9 17H7v-7h2v7zm4 0h-2V7h2v10zm4 0h-2v-4h2v4z\"/>\n",
              "    </g>\n",
              "</svg>\n",
              "  </button>\n",
              "\n",
              "<style>\n",
              "  .colab-df-quickchart {\n",
              "      --bg-color: #E8F0FE;\n",
              "      --fill-color: #1967D2;\n",
              "      --hover-bg-color: #E2EBFA;\n",
              "      --hover-fill-color: #174EA6;\n",
              "      --disabled-fill-color: #AAA;\n",
              "      --disabled-bg-color: #DDD;\n",
              "  }\n",
              "\n",
              "  [theme=dark] .colab-df-quickchart {\n",
              "      --bg-color: #3B4455;\n",
              "      --fill-color: #D2E3FC;\n",
              "      --hover-bg-color: #434B5C;\n",
              "      --hover-fill-color: #FFFFFF;\n",
              "      --disabled-bg-color: #3B4455;\n",
              "      --disabled-fill-color: #666;\n",
              "  }\n",
              "\n",
              "  .colab-df-quickchart {\n",
              "    background-color: var(--bg-color);\n",
              "    border: none;\n",
              "    border-radius: 50%;\n",
              "    cursor: pointer;\n",
              "    display: none;\n",
              "    fill: var(--fill-color);\n",
              "    height: 32px;\n",
              "    padding: 0;\n",
              "    width: 32px;\n",
              "  }\n",
              "\n",
              "  .colab-df-quickchart:hover {\n",
              "    background-color: var(--hover-bg-color);\n",
              "    box-shadow: 0 1px 2px rgba(60, 64, 67, 0.3), 0 1px 3px 1px rgba(60, 64, 67, 0.15);\n",
              "    fill: var(--button-hover-fill-color);\n",
              "  }\n",
              "\n",
              "  .colab-df-quickchart-complete:disabled,\n",
              "  .colab-df-quickchart-complete:disabled:hover {\n",
              "    background-color: var(--disabled-bg-color);\n",
              "    fill: var(--disabled-fill-color);\n",
              "    box-shadow: none;\n",
              "  }\n",
              "\n",
              "  .colab-df-spinner {\n",
              "    border: 2px solid var(--fill-color);\n",
              "    border-color: transparent;\n",
              "    border-bottom-color: var(--fill-color);\n",
              "    animation:\n",
              "      spin 1s steps(1) infinite;\n",
              "  }\n",
              "\n",
              "  @keyframes spin {\n",
              "    0% {\n",
              "      border-color: transparent;\n",
              "      border-bottom-color: var(--fill-color);\n",
              "      border-left-color: var(--fill-color);\n",
              "    }\n",
              "    20% {\n",
              "      border-color: transparent;\n",
              "      border-left-color: var(--fill-color);\n",
              "      border-top-color: var(--fill-color);\n",
              "    }\n",
              "    30% {\n",
              "      border-color: transparent;\n",
              "      border-left-color: var(--fill-color);\n",
              "      border-top-color: var(--fill-color);\n",
              "      border-right-color: var(--fill-color);\n",
              "    }\n",
              "    40% {\n",
              "      border-color: transparent;\n",
              "      border-right-color: var(--fill-color);\n",
              "      border-top-color: var(--fill-color);\n",
              "    }\n",
              "    60% {\n",
              "      border-color: transparent;\n",
              "      border-right-color: var(--fill-color);\n",
              "    }\n",
              "    80% {\n",
              "      border-color: transparent;\n",
              "      border-right-color: var(--fill-color);\n",
              "      border-bottom-color: var(--fill-color);\n",
              "    }\n",
              "    90% {\n",
              "      border-color: transparent;\n",
              "      border-bottom-color: var(--fill-color);\n",
              "    }\n",
              "  }\n",
              "</style>\n",
              "\n",
              "  <script>\n",
              "    async function quickchart(key) {\n",
              "      const quickchartButtonEl =\n",
              "        document.querySelector('#' + key + ' button');\n",
              "      quickchartButtonEl.disabled = true;  // To prevent multiple clicks.\n",
              "      quickchartButtonEl.classList.add('colab-df-spinner');\n",
              "      try {\n",
              "        const charts = await google.colab.kernel.invokeFunction(\n",
              "            'suggestCharts', [key], {});\n",
              "      } catch (error) {\n",
              "        console.error('Error during call to suggestCharts:', error);\n",
              "      }\n",
              "      quickchartButtonEl.classList.remove('colab-df-spinner');\n",
              "      quickchartButtonEl.classList.add('colab-df-quickchart-complete');\n",
              "    }\n",
              "    (() => {\n",
              "      let quickchartButtonEl =\n",
              "        document.querySelector('#df-a33d5f26-449a-4528-ab93-69f08d348d20 button');\n",
              "      quickchartButtonEl.style.display =\n",
              "        google.colab.kernel.accessAllowed ? 'block' : 'none';\n",
              "    })();\n",
              "  </script>\n",
              "</div>\n",
              "\n",
              "    </div>\n",
              "  </div>\n"
            ],
            "application/vnd.google.colaboratory.intrinsic+json": {
              "type": "dataframe",
              "summary": "{\n  \"name\": \"print(f'Colonne: {df\",\n  \"rows\": 5,\n  \"fields\": [\n    {\n      \"column\": \"ca\",\n      \"properties\": {\n        \"dtype\": \"number\",\n        \"std\": 1.5811388300841898,\n        \"min\": 1.0,\n        \"max\": 5.0,\n        \"num_unique_values\": 5,\n        \"samples\": [\n          2.0,\n          5.0,\n          3.0\n        ],\n        \"semantic_type\": \"\",\n        \"description\": \"\"\n      }\n    },\n    {\n      \"column\": \"community_area_name\",\n      \"properties\": {\n        \"dtype\": \"string\",\n        \"num_unique_values\": 5,\n        \"samples\": [\n          \"West Ridge\",\n          \"North Center\",\n          \"Uptown\"\n        ],\n        \"semantic_type\": \"\",\n        \"description\": \"\"\n      }\n    },\n    {\n      \"column\": \"percent_of_housing_crowded\",\n      \"properties\": {\n        \"dtype\": \"number\",\n        \"std\": 3.1788362650504665,\n        \"min\": 0.3,\n        \"max\": 7.8,\n        \"num_unique_values\": 5,\n        \"samples\": [\n          7.8,\n          0.3,\n          3.8\n        ],\n        \"semantic_type\": \"\",\n        \"description\": \"\"\n      }\n    },\n    {\n      \"column\": \"percent_households_below_poverty\",\n      \"properties\": {\n        \"dtype\": \"number\",\n        \"std\": 7.406281118078088,\n        \"min\": 7.5,\n        \"max\": 24.0,\n        \"num_unique_values\": 5,\n        \"samples\": [\n          17.2,\n          7.5,\n          24.0\n        ],\n        \"semantic_type\": \"\",\n        \"description\": \"\"\n      }\n    },\n    {\n      \"column\": \"percent_aged_16_unemployed\",\n      \"properties\": {\n        \"dtype\": \"number\",\n        \"std\": 1.5662056059151366,\n        \"min\": 5.2,\n        \"max\": 8.9,\n        \"num_unique_values\": 5,\n        \"samples\": [\n          8.8,\n          5.2,\n          8.9\n        ],\n        \"semantic_type\": \"\",\n        \"description\": \"\"\n      }\n    },\n    {\n      \"column\": \"percent_aged_25_without_high_school_diploma\",\n      \"properties\": {\n        \"dtype\": \"number\",\n        \"std\": 6.304601494146954,\n        \"min\": 4.5,\n        \"max\": 20.8,\n        \"num_unique_values\": 5,\n        \"samples\": [\n          20.8,\n          4.5,\n          11.8\n        ],\n        \"semantic_type\": \"\",\n        \"description\": \"\"\n      }\n    },\n    {\n      \"column\": \"percent_aged_under_18_or_over_64\",\n      \"properties\": {\n        \"dtype\": \"number\",\n        \"std\": 6.197338138265492,\n        \"min\": 22.2,\n        \"max\": 38.5,\n        \"num_unique_values\": 5,\n        \"samples\": [\n          38.5,\n          26.2,\n          22.2\n        ],\n        \"semantic_type\": \"\",\n        \"description\": \"\"\n      }\n    },\n    {\n      \"column\": \"per_capita_income_\",\n      \"properties\": {\n        \"dtype\": \"number\",\n        \"std\": 13789,\n        \"min\": 23040,\n        \"max\": 57123,\n        \"num_unique_values\": 5,\n        \"samples\": [\n          23040,\n          57123,\n          35787\n        ],\n        \"semantic_type\": \"\",\n        \"description\": \"\"\n      }\n    },\n    {\n      \"column\": \"hardship_index\",\n      \"properties\": {\n        \"dtype\": \"number\",\n        \"std\": 16.47118696390761,\n        \"min\": 6.0,\n        \"max\": 46.0,\n        \"num_unique_values\": 5,\n        \"samples\": [\n          46.0,\n          6.0,\n          20.0\n        ],\n        \"semantic_type\": \"\",\n        \"description\": \"\"\n      }\n    }\n  ]\n}"
            }
          },
          "metadata": {}
        },
        {
          "output_type": "stream",
          "name": "stdout",
          "text": [
            "Colonne: Index(['ca', 'community_area_name', 'percent_of_housing_crowded',\n",
            "       'percent_households_below_poverty', 'percent_aged_16_unemployed',\n",
            "       'percent_aged_25_without_high_school_diploma',\n",
            "       'percent_aged_under_18_or_over_64', 'per_capita_income_',\n",
            "       'hardship_index'],\n",
            "      dtype='object')\n"
          ]
        }
      ]
    },
    {
      "cell_type": "markdown",
      "source": [
        "**Quante righe nel dataset**"
      ],
      "metadata": {
        "id": "qZ0zfOzAnTbX"
      }
    },
    {
      "cell_type": "code",
      "metadata": {
        "id": "8ffa992e-87d2-41af-b8a5-70efdb085b48",
        "colab": {
          "base_uri": "https://localhost:8080/",
          "height": 95
        },
        "outputId": "16cd133b-9f86-45a7-dc49-9e93f8e3d36d"
      },
      "outputs": [
        {
          "output_type": "stream",
          "name": "stdout",
          "text": [
            " * sqlite:///socioeconomic.db\n",
            "Done.\n"
          ]
        },
        {
          "output_type": "execute_result",
          "data": {
            "text/plain": [
              "[(78,)]"
            ],
            "text/html": [
              "<table>\n",
              "    <thead>\n",
              "        <tr>\n",
              "            <th>count(*)</th>\n",
              "        </tr>\n",
              "    </thead>\n",
              "    <tbody>\n",
              "        <tr>\n",
              "            <td>78</td>\n",
              "        </tr>\n",
              "    </tbody>\n",
              "</table>"
            ]
          },
          "metadata": {},
          "execution_count": 9
        }
      ],
      "source": [
        "# SQL\n",
        "%sql SELECT count(*) from chicago_socioeconomic_data"
      ],
      "execution_count": 9
    },
    {
      "cell_type": "code",
      "source": [
        "# Pandas\n",
        "print(df.shape[0])"
      ],
      "metadata": {
        "colab": {
          "base_uri": "https://localhost:8080/"
        },
        "id": "xhVHYfEOfFJF",
        "outputId": "300c3830-7eb5-44b4-9028-70ac93e7208f"
      },
      "execution_count": 10,
      "outputs": [
        {
          "output_type": "stream",
          "name": "stdout",
          "text": [
            "78\n"
          ]
        }
      ]
    },
    {
      "cell_type": "markdown",
      "source": [
        "**Ordinare le aree in ordine alfabetico**"
      ],
      "metadata": {
        "id": "Ez9I5TIXqiKC"
      }
    },
    {
      "cell_type": "code",
      "source": [
        "# SQL\n",
        "%sql select * from chicago_socioeconomic_data order by community_area_name limit 5"
      ],
      "metadata": {
        "colab": {
          "base_uri": "https://localhost:8080/",
          "height": 199
        },
        "id": "3PSmiAz7qmEU",
        "outputId": "e1e1fa8a-a3fa-4467-a6df-d5a5ad51519f"
      },
      "execution_count": 99,
      "outputs": [
        {
          "output_type": "stream",
          "name": "stdout",
          "text": [
            " * sqlite:///socioeconomic.db\n",
            "Done.\n"
          ]
        },
        {
          "output_type": "execute_result",
          "data": {
            "text/plain": [
              "[(14.0, 'Albany Park', 11.3, 19.2, 10.0, 32.9, 32.0, 21323, 53.0),\n",
              " (57.0, 'Archer Heights', 8.5, 14.1, 16.5, 35.9, 39.2, 16134, 67.0),\n",
              " (34.0, 'Armour Square', 5.7, 40.1, 16.7, 34.5, 38.3, 16148, 82.0),\n",
              " (70.0, 'Ashburn', 4.0, 10.4, 11.7, 17.7, 36.9, 23482, 37.0),\n",
              " (71.0, 'Auburn Gresham', 4.0, 27.6, 28.3, 18.5, 41.9, 15528, 74.0)]"
            ],
            "text/html": [
              "<table>\n",
              "    <thead>\n",
              "        <tr>\n",
              "            <th>ca</th>\n",
              "            <th>community_area_name</th>\n",
              "            <th>percent_of_housing_crowded</th>\n",
              "            <th>percent_households_below_poverty</th>\n",
              "            <th>percent_aged_16_unemployed</th>\n",
              "            <th>percent_aged_25_without_high_school_diploma</th>\n",
              "            <th>percent_aged_under_18_or_over_64</th>\n",
              "            <th>per_capita_income_</th>\n",
              "            <th>hardship_index</th>\n",
              "        </tr>\n",
              "    </thead>\n",
              "    <tbody>\n",
              "        <tr>\n",
              "            <td>14.0</td>\n",
              "            <td>Albany Park</td>\n",
              "            <td>11.3</td>\n",
              "            <td>19.2</td>\n",
              "            <td>10.0</td>\n",
              "            <td>32.9</td>\n",
              "            <td>32.0</td>\n",
              "            <td>21323</td>\n",
              "            <td>53.0</td>\n",
              "        </tr>\n",
              "        <tr>\n",
              "            <td>57.0</td>\n",
              "            <td>Archer Heights</td>\n",
              "            <td>8.5</td>\n",
              "            <td>14.1</td>\n",
              "            <td>16.5</td>\n",
              "            <td>35.9</td>\n",
              "            <td>39.2</td>\n",
              "            <td>16134</td>\n",
              "            <td>67.0</td>\n",
              "        </tr>\n",
              "        <tr>\n",
              "            <td>34.0</td>\n",
              "            <td>Armour Square</td>\n",
              "            <td>5.7</td>\n",
              "            <td>40.1</td>\n",
              "            <td>16.7</td>\n",
              "            <td>34.5</td>\n",
              "            <td>38.3</td>\n",
              "            <td>16148</td>\n",
              "            <td>82.0</td>\n",
              "        </tr>\n",
              "        <tr>\n",
              "            <td>70.0</td>\n",
              "            <td>Ashburn</td>\n",
              "            <td>4.0</td>\n",
              "            <td>10.4</td>\n",
              "            <td>11.7</td>\n",
              "            <td>17.7</td>\n",
              "            <td>36.9</td>\n",
              "            <td>23482</td>\n",
              "            <td>37.0</td>\n",
              "        </tr>\n",
              "        <tr>\n",
              "            <td>71.0</td>\n",
              "            <td>Auburn Gresham</td>\n",
              "            <td>4.0</td>\n",
              "            <td>27.6</td>\n",
              "            <td>28.3</td>\n",
              "            <td>18.5</td>\n",
              "            <td>41.9</td>\n",
              "            <td>15528</td>\n",
              "            <td>74.0</td>\n",
              "        </tr>\n",
              "    </tbody>\n",
              "</table>"
            ]
          },
          "metadata": {},
          "execution_count": 99
        }
      ]
    },
    {
      "cell_type": "code",
      "source": [
        "# Pandas\n",
        "display( df.sort_values(by='community_area_name').head() )"
      ],
      "metadata": {
        "colab": {
          "base_uri": "https://localhost:8080/",
          "height": 226
        },
        "id": "8yYEo6j9rBkM",
        "outputId": "fb97a4ea-abf9-489b-9175-03f348af7d40"
      },
      "execution_count": 101,
      "outputs": [
        {
          "output_type": "display_data",
          "data": {
            "text/plain": [
              "      ca community_area_name  percent_of_housing_crowded  \\\n",
              "13  14.0         Albany Park                        11.3   \n",
              "56  57.0      Archer Heights                         8.5   \n",
              "33  34.0       Armour Square                         5.7   \n",
              "69  70.0             Ashburn                         4.0   \n",
              "70  71.0      Auburn Gresham                         4.0   \n",
              "\n",
              "    percent_households_below_poverty  percent_aged_16_unemployed  \\\n",
              "13                              19.2                        10.0   \n",
              "56                              14.1                        16.5   \n",
              "33                              40.1                        16.7   \n",
              "69                              10.4                        11.7   \n",
              "70                              27.6                        28.3   \n",
              "\n",
              "    percent_aged_25_without_high_school_diploma  \\\n",
              "13                                         32.9   \n",
              "56                                         35.9   \n",
              "33                                         34.5   \n",
              "69                                         17.7   \n",
              "70                                         18.5   \n",
              "\n",
              "    percent_aged_under_18_or_over_64  per_capita_income_  hardship_index  \n",
              "13                              32.0               21323            53.0  \n",
              "56                              39.2               16134            67.0  \n",
              "33                              38.3               16148            82.0  \n",
              "69                              36.9               23482            37.0  \n",
              "70                              41.9               15528            74.0  "
            ],
            "text/html": [
              "\n",
              "  <div id=\"df-a5b739ff-94a6-4d7d-94db-bd81f75309b3\" class=\"colab-df-container\">\n",
              "    <div>\n",
              "<style scoped>\n",
              "    .dataframe tbody tr th:only-of-type {\n",
              "        vertical-align: middle;\n",
              "    }\n",
              "\n",
              "    .dataframe tbody tr th {\n",
              "        vertical-align: top;\n",
              "    }\n",
              "\n",
              "    .dataframe thead th {\n",
              "        text-align: right;\n",
              "    }\n",
              "</style>\n",
              "<table border=\"1\" class=\"dataframe\">\n",
              "  <thead>\n",
              "    <tr style=\"text-align: right;\">\n",
              "      <th></th>\n",
              "      <th>ca</th>\n",
              "      <th>community_area_name</th>\n",
              "      <th>percent_of_housing_crowded</th>\n",
              "      <th>percent_households_below_poverty</th>\n",
              "      <th>percent_aged_16_unemployed</th>\n",
              "      <th>percent_aged_25_without_high_school_diploma</th>\n",
              "      <th>percent_aged_under_18_or_over_64</th>\n",
              "      <th>per_capita_income_</th>\n",
              "      <th>hardship_index</th>\n",
              "    </tr>\n",
              "  </thead>\n",
              "  <tbody>\n",
              "    <tr>\n",
              "      <th>13</th>\n",
              "      <td>14.0</td>\n",
              "      <td>Albany Park</td>\n",
              "      <td>11.3</td>\n",
              "      <td>19.2</td>\n",
              "      <td>10.0</td>\n",
              "      <td>32.9</td>\n",
              "      <td>32.0</td>\n",
              "      <td>21323</td>\n",
              "      <td>53.0</td>\n",
              "    </tr>\n",
              "    <tr>\n",
              "      <th>56</th>\n",
              "      <td>57.0</td>\n",
              "      <td>Archer Heights</td>\n",
              "      <td>8.5</td>\n",
              "      <td>14.1</td>\n",
              "      <td>16.5</td>\n",
              "      <td>35.9</td>\n",
              "      <td>39.2</td>\n",
              "      <td>16134</td>\n",
              "      <td>67.0</td>\n",
              "    </tr>\n",
              "    <tr>\n",
              "      <th>33</th>\n",
              "      <td>34.0</td>\n",
              "      <td>Armour Square</td>\n",
              "      <td>5.7</td>\n",
              "      <td>40.1</td>\n",
              "      <td>16.7</td>\n",
              "      <td>34.5</td>\n",
              "      <td>38.3</td>\n",
              "      <td>16148</td>\n",
              "      <td>82.0</td>\n",
              "    </tr>\n",
              "    <tr>\n",
              "      <th>69</th>\n",
              "      <td>70.0</td>\n",
              "      <td>Ashburn</td>\n",
              "      <td>4.0</td>\n",
              "      <td>10.4</td>\n",
              "      <td>11.7</td>\n",
              "      <td>17.7</td>\n",
              "      <td>36.9</td>\n",
              "      <td>23482</td>\n",
              "      <td>37.0</td>\n",
              "    </tr>\n",
              "    <tr>\n",
              "      <th>70</th>\n",
              "      <td>71.0</td>\n",
              "      <td>Auburn Gresham</td>\n",
              "      <td>4.0</td>\n",
              "      <td>27.6</td>\n",
              "      <td>28.3</td>\n",
              "      <td>18.5</td>\n",
              "      <td>41.9</td>\n",
              "      <td>15528</td>\n",
              "      <td>74.0</td>\n",
              "    </tr>\n",
              "  </tbody>\n",
              "</table>\n",
              "</div>\n",
              "    <div class=\"colab-df-buttons\">\n",
              "\n",
              "  <div class=\"colab-df-container\">\n",
              "    <button class=\"colab-df-convert\" onclick=\"convertToInteractive('df-a5b739ff-94a6-4d7d-94db-bd81f75309b3')\"\n",
              "            title=\"Convert this dataframe to an interactive table.\"\n",
              "            style=\"display:none;\">\n",
              "\n",
              "  <svg xmlns=\"http://www.w3.org/2000/svg\" height=\"24px\" viewBox=\"0 -960 960 960\">\n",
              "    <path d=\"M120-120v-720h720v720H120Zm60-500h600v-160H180v160Zm220 220h160v-160H400v160Zm0 220h160v-160H400v160ZM180-400h160v-160H180v160Zm440 0h160v-160H620v160ZM180-180h160v-160H180v160Zm440 0h160v-160H620v160Z\"/>\n",
              "  </svg>\n",
              "    </button>\n",
              "\n",
              "  <style>\n",
              "    .colab-df-container {\n",
              "      display:flex;\n",
              "      gap: 12px;\n",
              "    }\n",
              "\n",
              "    .colab-df-convert {\n",
              "      background-color: #E8F0FE;\n",
              "      border: none;\n",
              "      border-radius: 50%;\n",
              "      cursor: pointer;\n",
              "      display: none;\n",
              "      fill: #1967D2;\n",
              "      height: 32px;\n",
              "      padding: 0 0 0 0;\n",
              "      width: 32px;\n",
              "    }\n",
              "\n",
              "    .colab-df-convert:hover {\n",
              "      background-color: #E2EBFA;\n",
              "      box-shadow: 0px 1px 2px rgba(60, 64, 67, 0.3), 0px 1px 3px 1px rgba(60, 64, 67, 0.15);\n",
              "      fill: #174EA6;\n",
              "    }\n",
              "\n",
              "    .colab-df-buttons div {\n",
              "      margin-bottom: 4px;\n",
              "    }\n",
              "\n",
              "    [theme=dark] .colab-df-convert {\n",
              "      background-color: #3B4455;\n",
              "      fill: #D2E3FC;\n",
              "    }\n",
              "\n",
              "    [theme=dark] .colab-df-convert:hover {\n",
              "      background-color: #434B5C;\n",
              "      box-shadow: 0px 1px 3px 1px rgba(0, 0, 0, 0.15);\n",
              "      filter: drop-shadow(0px 1px 2px rgba(0, 0, 0, 0.3));\n",
              "      fill: #FFFFFF;\n",
              "    }\n",
              "  </style>\n",
              "\n",
              "    <script>\n",
              "      const buttonEl =\n",
              "        document.querySelector('#df-a5b739ff-94a6-4d7d-94db-bd81f75309b3 button.colab-df-convert');\n",
              "      buttonEl.style.display =\n",
              "        google.colab.kernel.accessAllowed ? 'block' : 'none';\n",
              "\n",
              "      async function convertToInteractive(key) {\n",
              "        const element = document.querySelector('#df-a5b739ff-94a6-4d7d-94db-bd81f75309b3');\n",
              "        const dataTable =\n",
              "          await google.colab.kernel.invokeFunction('convertToInteractive',\n",
              "                                                    [key], {});\n",
              "        if (!dataTable) return;\n",
              "\n",
              "        const docLinkHtml = 'Like what you see? Visit the ' +\n",
              "          '<a target=\"_blank\" href=https://colab.research.google.com/notebooks/data_table.ipynb>data table notebook</a>'\n",
              "          + ' to learn more about interactive tables.';\n",
              "        element.innerHTML = '';\n",
              "        dataTable['output_type'] = 'display_data';\n",
              "        await google.colab.output.renderOutput(dataTable, element);\n",
              "        const docLink = document.createElement('div');\n",
              "        docLink.innerHTML = docLinkHtml;\n",
              "        element.appendChild(docLink);\n",
              "      }\n",
              "    </script>\n",
              "  </div>\n",
              "\n",
              "\n",
              "<div id=\"df-07607c0a-008e-4890-b04e-aa2f224082cf\">\n",
              "  <button class=\"colab-df-quickchart\" onclick=\"quickchart('df-07607c0a-008e-4890-b04e-aa2f224082cf')\"\n",
              "            title=\"Suggest charts\"\n",
              "            style=\"display:none;\">\n",
              "\n",
              "<svg xmlns=\"http://www.w3.org/2000/svg\" height=\"24px\"viewBox=\"0 0 24 24\"\n",
              "     width=\"24px\">\n",
              "    <g>\n",
              "        <path d=\"M19 3H5c-1.1 0-2 .9-2 2v14c0 1.1.9 2 2 2h14c1.1 0 2-.9 2-2V5c0-1.1-.9-2-2-2zM9 17H7v-7h2v7zm4 0h-2V7h2v10zm4 0h-2v-4h2v4z\"/>\n",
              "    </g>\n",
              "</svg>\n",
              "  </button>\n",
              "\n",
              "<style>\n",
              "  .colab-df-quickchart {\n",
              "      --bg-color: #E8F0FE;\n",
              "      --fill-color: #1967D2;\n",
              "      --hover-bg-color: #E2EBFA;\n",
              "      --hover-fill-color: #174EA6;\n",
              "      --disabled-fill-color: #AAA;\n",
              "      --disabled-bg-color: #DDD;\n",
              "  }\n",
              "\n",
              "  [theme=dark] .colab-df-quickchart {\n",
              "      --bg-color: #3B4455;\n",
              "      --fill-color: #D2E3FC;\n",
              "      --hover-bg-color: #434B5C;\n",
              "      --hover-fill-color: #FFFFFF;\n",
              "      --disabled-bg-color: #3B4455;\n",
              "      --disabled-fill-color: #666;\n",
              "  }\n",
              "\n",
              "  .colab-df-quickchart {\n",
              "    background-color: var(--bg-color);\n",
              "    border: none;\n",
              "    border-radius: 50%;\n",
              "    cursor: pointer;\n",
              "    display: none;\n",
              "    fill: var(--fill-color);\n",
              "    height: 32px;\n",
              "    padding: 0;\n",
              "    width: 32px;\n",
              "  }\n",
              "\n",
              "  .colab-df-quickchart:hover {\n",
              "    background-color: var(--hover-bg-color);\n",
              "    box-shadow: 0 1px 2px rgba(60, 64, 67, 0.3), 0 1px 3px 1px rgba(60, 64, 67, 0.15);\n",
              "    fill: var(--button-hover-fill-color);\n",
              "  }\n",
              "\n",
              "  .colab-df-quickchart-complete:disabled,\n",
              "  .colab-df-quickchart-complete:disabled:hover {\n",
              "    background-color: var(--disabled-bg-color);\n",
              "    fill: var(--disabled-fill-color);\n",
              "    box-shadow: none;\n",
              "  }\n",
              "\n",
              "  .colab-df-spinner {\n",
              "    border: 2px solid var(--fill-color);\n",
              "    border-color: transparent;\n",
              "    border-bottom-color: var(--fill-color);\n",
              "    animation:\n",
              "      spin 1s steps(1) infinite;\n",
              "  }\n",
              "\n",
              "  @keyframes spin {\n",
              "    0% {\n",
              "      border-color: transparent;\n",
              "      border-bottom-color: var(--fill-color);\n",
              "      border-left-color: var(--fill-color);\n",
              "    }\n",
              "    20% {\n",
              "      border-color: transparent;\n",
              "      border-left-color: var(--fill-color);\n",
              "      border-top-color: var(--fill-color);\n",
              "    }\n",
              "    30% {\n",
              "      border-color: transparent;\n",
              "      border-left-color: var(--fill-color);\n",
              "      border-top-color: var(--fill-color);\n",
              "      border-right-color: var(--fill-color);\n",
              "    }\n",
              "    40% {\n",
              "      border-color: transparent;\n",
              "      border-right-color: var(--fill-color);\n",
              "      border-top-color: var(--fill-color);\n",
              "    }\n",
              "    60% {\n",
              "      border-color: transparent;\n",
              "      border-right-color: var(--fill-color);\n",
              "    }\n",
              "    80% {\n",
              "      border-color: transparent;\n",
              "      border-right-color: var(--fill-color);\n",
              "      border-bottom-color: var(--fill-color);\n",
              "    }\n",
              "    90% {\n",
              "      border-color: transparent;\n",
              "      border-bottom-color: var(--fill-color);\n",
              "    }\n",
              "  }\n",
              "</style>\n",
              "\n",
              "  <script>\n",
              "    async function quickchart(key) {\n",
              "      const quickchartButtonEl =\n",
              "        document.querySelector('#' + key + ' button');\n",
              "      quickchartButtonEl.disabled = true;  // To prevent multiple clicks.\n",
              "      quickchartButtonEl.classList.add('colab-df-spinner');\n",
              "      try {\n",
              "        const charts = await google.colab.kernel.invokeFunction(\n",
              "            'suggestCharts', [key], {});\n",
              "      } catch (error) {\n",
              "        console.error('Error during call to suggestCharts:', error);\n",
              "      }\n",
              "      quickchartButtonEl.classList.remove('colab-df-spinner');\n",
              "      quickchartButtonEl.classList.add('colab-df-quickchart-complete');\n",
              "    }\n",
              "    (() => {\n",
              "      let quickchartButtonEl =\n",
              "        document.querySelector('#df-07607c0a-008e-4890-b04e-aa2f224082cf button');\n",
              "      quickchartButtonEl.style.display =\n",
              "        google.colab.kernel.accessAllowed ? 'block' : 'none';\n",
              "    })();\n",
              "  </script>\n",
              "</div>\n",
              "\n",
              "    </div>\n",
              "  </div>\n"
            ],
            "application/vnd.google.colaboratory.intrinsic+json": {
              "type": "dataframe",
              "summary": "{\n  \"name\": \"display( df\",\n  \"rows\": 5,\n  \"fields\": [\n    {\n      \"column\": \"ca\",\n      \"properties\": {\n        \"dtype\": \"number\",\n        \"std\": 24.69210400107694,\n        \"min\": 14.0,\n        \"max\": 71.0,\n        \"num_unique_values\": 5,\n        \"samples\": [\n          57.0,\n          71.0,\n          34.0\n        ],\n        \"semantic_type\": \"\",\n        \"description\": \"\"\n      }\n    },\n    {\n      \"column\": \"community_area_name\",\n      \"properties\": {\n        \"dtype\": \"string\",\n        \"num_unique_values\": 5,\n        \"samples\": [\n          \"Archer Heights\",\n          \"Auburn Gresham\",\n          \"Armour Square\"\n        ],\n        \"semantic_type\": \"\",\n        \"description\": \"\"\n      }\n    },\n    {\n      \"column\": \"percent_of_housing_crowded\",\n      \"properties\": {\n        \"dtype\": \"number\",\n        \"std\": 3.1614869919074473,\n        \"min\": 4.0,\n        \"max\": 11.3,\n        \"num_unique_values\": 4,\n        \"samples\": [\n          8.5,\n          4.0,\n          11.3\n        ],\n        \"semantic_type\": \"\",\n        \"description\": \"\"\n      }\n    },\n    {\n      \"column\": \"percent_households_below_poverty\",\n      \"properties\": {\n        \"dtype\": \"number\",\n        \"std\": 11.867897876203688,\n        \"min\": 10.4,\n        \"max\": 40.1,\n        \"num_unique_values\": 5,\n        \"samples\": [\n          14.1,\n          27.6,\n          40.1\n        ],\n        \"semantic_type\": \"\",\n        \"description\": \"\"\n      }\n    },\n    {\n      \"column\": \"percent_aged_16_unemployed\",\n      \"properties\": {\n        \"dtype\": \"number\",\n        \"std\": 7.1496853077600555,\n        \"min\": 10.0,\n        \"max\": 28.3,\n        \"num_unique_values\": 5,\n        \"samples\": [\n          16.5,\n          28.3,\n          16.7\n        ],\n        \"semantic_type\": \"\",\n        \"description\": \"\"\n      }\n    },\n    {\n      \"column\": \"percent_aged_25_without_high_school_diploma\",\n      \"properties\": {\n        \"dtype\": \"number\",\n        \"std\": 9.013323471395,\n        \"min\": 17.7,\n        \"max\": 35.9,\n        \"num_unique_values\": 5,\n        \"samples\": [\n          35.9,\n          18.5,\n          34.5\n        ],\n        \"semantic_type\": \"\",\n        \"description\": \"\"\n      }\n    },\n    {\n      \"column\": \"percent_aged_under_18_or_over_64\",\n      \"properties\": {\n        \"dtype\": \"number\",\n        \"std\": 3.65280713972145,\n        \"min\": 32.0,\n        \"max\": 41.9,\n        \"num_unique_values\": 5,\n        \"samples\": [\n          39.2,\n          41.9,\n          38.3\n        ],\n        \"semantic_type\": \"\",\n        \"description\": \"\"\n      }\n    },\n    {\n      \"column\": \"per_capita_income_\",\n      \"properties\": {\n        \"dtype\": \"number\",\n        \"std\": 3631,\n        \"min\": 15528,\n        \"max\": 23482,\n        \"num_unique_values\": 5,\n        \"samples\": [\n          16134,\n          15528,\n          16148\n        ],\n        \"semantic_type\": \"\",\n        \"description\": \"\"\n      }\n    },\n    {\n      \"column\": \"hardship_index\",\n      \"properties\": {\n        \"dtype\": \"number\",\n        \"std\": 17.840964099509872,\n        \"min\": 37.0,\n        \"max\": 82.0,\n        \"num_unique_values\": 5,\n        \"samples\": [\n          67.0,\n          74.0,\n          82.0\n        ],\n        \"semantic_type\": \"\",\n        \"description\": \"\"\n      }\n    }\n  ]\n}"
            }
          },
          "metadata": {}
        }
      ]
    },
    {
      "cell_type": "markdown",
      "source": [
        "**Quante aree con percent_aged_16_unemployed superiore alla media**"
      ],
      "metadata": {
        "id": "82gR0-5XoMOp"
      }
    },
    {
      "cell_type": "code",
      "source": [
        "# SQL\n",
        "%sql select count(community_area_name) as areas, round(AVG(percent_aged_16_unemployed)) as avg_percent_aged_16_unemployed from chicago_socioeconomic_data where percent_aged_16_unemployed > (select AVG(percent_aged_16_unemployed) from chicago_socioeconomic_data)"
      ],
      "metadata": {
        "colab": {
          "base_uri": "https://localhost:8080/",
          "height": 95
        },
        "id": "Otc6F_xNoZDW",
        "outputId": "1b8dc1ed-9a6a-4be8-9763-4bb28c58cb65"
      },
      "execution_count": 91,
      "outputs": [
        {
          "output_type": "stream",
          "name": "stdout",
          "text": [
            " * sqlite:///socioeconomic.db\n",
            "Done.\n"
          ]
        },
        {
          "output_type": "execute_result",
          "data": {
            "text/plain": [
              "[(36, 22.0)]"
            ],
            "text/html": [
              "<table>\n",
              "    <thead>\n",
              "        <tr>\n",
              "            <th>areas</th>\n",
              "            <th>avg_percent_aged_16_unemployed</th>\n",
              "        </tr>\n",
              "    </thead>\n",
              "    <tbody>\n",
              "        <tr>\n",
              "            <td>36</td>\n",
              "            <td>22.0</td>\n",
              "        </tr>\n",
              "    </tbody>\n",
              "</table>"
            ]
          },
          "metadata": {},
          "execution_count": 91
        }
      ]
    },
    {
      "cell_type": "code",
      "source": [
        "# Pandas\n",
        "avg_percent_aged_16_unemployed = df.percent_aged_16_unemployed.mean()\n",
        "print(f'{df.loc[ df.percent_aged_16_unemployed > avg_percent_aged_16_unemployed].shape[0]} \\t media: {avg_percent_aged_16_unemployed:.1f} ' )"
      ],
      "metadata": {
        "colab": {
          "base_uri": "https://localhost:8080/"
        },
        "id": "-MBz9NvOo8xU",
        "outputId": "a1624832-a466-4b43-8585-48bc7c3f6dde"
      },
      "execution_count": 97,
      "outputs": [
        {
          "output_type": "stream",
          "name": "stdout",
          "text": [
            "36 \t media: 15.3 \n"
          ]
        }
      ]
    },
    {
      "cell_type": "markdown",
      "metadata": {
        "id": "2db86745-f6f1-49ff-876d-22ce625f57a4"
      },
      "source": [
        "**Quante aree hanno hardship_index > 50.0**"
      ]
    },
    {
      "cell_type": "code",
      "metadata": {
        "id": "8af422b5-f8fb-4eb2-9d42-57cfeca4a9f0",
        "colab": {
          "base_uri": "https://localhost:8080/",
          "height": 95
        },
        "outputId": "bd12170d-1af6-48ac-8bc6-d6fc9dde7e93"
      },
      "outputs": [
        {
          "output_type": "stream",
          "name": "stdout",
          "text": [
            " * sqlite:///socioeconomic.db\n",
            "Done.\n"
          ]
        },
        {
          "output_type": "execute_result",
          "data": {
            "text/plain": [
              "[(38,)]"
            ],
            "text/html": [
              "<table>\n",
              "    <thead>\n",
              "        <tr>\n",
              "            <th>count(community_area_name)</th>\n",
              "        </tr>\n",
              "    </thead>\n",
              "    <tbody>\n",
              "        <tr>\n",
              "            <td>38</td>\n",
              "        </tr>\n",
              "    </tbody>\n",
              "</table>"
            ]
          },
          "metadata": {},
          "execution_count": 12
        }
      ],
      "source": [
        "# SQL\n",
        "threshold = 50.0\n",
        "%sql select count(community_area_name) from chicago_socioeconomic_data where hardship_index > :threshold"
      ],
      "execution_count": 12
    },
    {
      "cell_type": "code",
      "source": [
        "# Pandas\n",
        "df1 = df.loc[ df['hardship_index'] > threshold ]\n",
        "print(df1.shape[0])"
      ],
      "metadata": {
        "colab": {
          "base_uri": "https://localhost:8080/"
        },
        "id": "r-9g71Uxfnc5",
        "outputId": "98676f55-0c2d-48f3-81f2-27dde03210dd"
      },
      "execution_count": 19,
      "outputs": [
        {
          "output_type": "stream",
          "name": "stdout",
          "text": [
            "38\n"
          ]
        }
      ]
    },
    {
      "cell_type": "markdown",
      "metadata": {
        "id": "867faa45-6524-4da7-af29-734f694e87d6"
      },
      "source": [
        "**Valore massimo di hardship_index**"
      ]
    },
    {
      "cell_type": "code",
      "metadata": {
        "id": "14350341-4e41-4a0d-81a3-f0dc603a1983",
        "colab": {
          "base_uri": "https://localhost:8080/",
          "height": 95
        },
        "outputId": "16b64bec-1abb-498d-aa1f-a0ca4cf5569f"
      },
      "outputs": [
        {
          "output_type": "stream",
          "name": "stdout",
          "text": [
            " * sqlite:///socioeconomic.db\n",
            "Done.\n"
          ]
        },
        {
          "output_type": "execute_result",
          "data": {
            "text/plain": [
              "[(98.0,)]"
            ],
            "text/html": [
              "<table>\n",
              "    <thead>\n",
              "        <tr>\n",
              "            <th>MAX(hardship_index)</th>\n",
              "        </tr>\n",
              "    </thead>\n",
              "    <tbody>\n",
              "        <tr>\n",
              "            <td>98.0</td>\n",
              "        </tr>\n",
              "    </tbody>\n",
              "</table>"
            ]
          },
          "metadata": {},
          "execution_count": 20
        }
      ],
      "source": [
        "# SQL\n",
        "%sql select MAX(hardship_index) from chicago_socioeconomic_data"
      ],
      "execution_count": 20
    },
    {
      "cell_type": "code",
      "source": [
        "# Pandas\n",
        "print(max(df.hardship_index))"
      ],
      "metadata": {
        "colab": {
          "base_uri": "https://localhost:8080/"
        },
        "id": "DQPsHfhbgRXE",
        "outputId": "e3a19fae-7e33-406f-e76d-f0a75ddc5f31"
      },
      "execution_count": 21,
      "outputs": [
        {
          "output_type": "stream",
          "name": "stdout",
          "text": [
            "98.0\n"
          ]
        }
      ]
    },
    {
      "cell_type": "markdown",
      "metadata": {
        "id": "dde13717-3bc3-4839-8b7c-2779496af88a"
      },
      "source": [
        "**Area con hardship_index massimo**\n"
      ]
    },
    {
      "cell_type": "code",
      "metadata": {
        "id": "a4327a10-16de-460e-b293-ca2edb9f9034",
        "colab": {
          "base_uri": "https://localhost:8080/",
          "height": 95
        },
        "outputId": "8cd6b32a-9dc7-4f46-9aa9-7ee8f448feae"
      },
      "outputs": [
        {
          "output_type": "stream",
          "name": "stdout",
          "text": [
            " * sqlite:///socioeconomic.db\n",
            "Done.\n"
          ]
        },
        {
          "output_type": "execute_result",
          "data": {
            "text/plain": [
              "[('Riverdale',)]"
            ],
            "text/html": [
              "<table>\n",
              "    <thead>\n",
              "        <tr>\n",
              "            <th>community_area_name</th>\n",
              "        </tr>\n",
              "    </thead>\n",
              "    <tbody>\n",
              "        <tr>\n",
              "            <td>Riverdale</td>\n",
              "        </tr>\n",
              "    </tbody>\n",
              "</table>"
            ]
          },
          "metadata": {},
          "execution_count": 22
        }
      ],
      "source": [
        "# SQL 1\n",
        "%sql select community_area_name from chicago_socioeconomic_data where hardship_index = (select MAX(hardship_index) from chicago_socioeconomic_data)"
      ],
      "execution_count": 22
    },
    {
      "cell_type": "code",
      "source": [
        "#SQL 2\n",
        "max_hardship_index = 98.0\n",
        "%sql select community_area_name from chicago_socioeconomic_data where hardship_index = :max_hardship_index"
      ],
      "metadata": {
        "colab": {
          "base_uri": "https://localhost:8080/",
          "height": 95
        },
        "id": "6EYI7JDIgpnq",
        "outputId": "b406b1c6-17a1-4bd6-bfcf-24fd06cb3641"
      },
      "execution_count": 23,
      "outputs": [
        {
          "output_type": "stream",
          "name": "stdout",
          "text": [
            " * sqlite:///socioeconomic.db\n",
            "Done.\n"
          ]
        },
        {
          "output_type": "execute_result",
          "data": {
            "text/plain": [
              "[('Riverdale',)]"
            ],
            "text/html": [
              "<table>\n",
              "    <thead>\n",
              "        <tr>\n",
              "            <th>community_area_name</th>\n",
              "        </tr>\n",
              "    </thead>\n",
              "    <tbody>\n",
              "        <tr>\n",
              "            <td>Riverdale</td>\n",
              "        </tr>\n",
              "    </tbody>\n",
              "</table>"
            ]
          },
          "metadata": {},
          "execution_count": 23
        }
      ]
    },
    {
      "cell_type": "code",
      "source": [
        "# Pandas\n",
        "print(df.loc[ df.hardship_index == max_hardship_index].community_area_name)"
      ],
      "metadata": {
        "colab": {
          "base_uri": "https://localhost:8080/"
        },
        "id": "w1s2ph7Xg02w",
        "outputId": "81ca3e36-2cf2-4a5c-fac8-2bebb3ee0bb3"
      },
      "execution_count": 54,
      "outputs": [
        {
          "output_type": "stream",
          "name": "stdout",
          "text": [
            "53    Riverdale\n",
            "Name: community_area_name, dtype: object\n"
          ]
        }
      ]
    },
    {
      "cell_type": "markdown",
      "metadata": {
        "id": "7f3ffdf3-1cd1-40fb-972c-935ad165b51c"
      },
      "source": [
        "**Area con per-capita income > 60000 $**"
      ]
    },
    {
      "cell_type": "code",
      "metadata": {
        "id": "d4792eb6-ecfe-4a88-ad3a-63663e37927c",
        "colab": {
          "base_uri": "https://localhost:8080/",
          "height": 158
        },
        "outputId": "7eec8c73-55fe-4aec-c2c5-3be7da73e2b8"
      },
      "outputs": [
        {
          "output_type": "stream",
          "name": "stdout",
          "text": [
            " * sqlite:///socioeconomic.db\n",
            "Done.\n"
          ]
        },
        {
          "output_type": "execute_result",
          "data": {
            "text/plain": [
              "[('Lake View',), ('Lincoln Park',), ('Near North Side',), ('Loop',)]"
            ],
            "text/html": [
              "<table>\n",
              "    <thead>\n",
              "        <tr>\n",
              "            <th>community_area_name</th>\n",
              "        </tr>\n",
              "    </thead>\n",
              "    <tbody>\n",
              "        <tr>\n",
              "            <td>Lake View</td>\n",
              "        </tr>\n",
              "        <tr>\n",
              "            <td>Lincoln Park</td>\n",
              "        </tr>\n",
              "        <tr>\n",
              "            <td>Near North Side</td>\n",
              "        </tr>\n",
              "        <tr>\n",
              "            <td>Loop</td>\n",
              "        </tr>\n",
              "    </tbody>\n",
              "</table>"
            ]
          },
          "metadata": {},
          "execution_count": 55
        }
      ],
      "source": [
        "# SQL\n",
        "threshold = 60e3\n",
        "%sql select community_area_name from chicago_socioeconomic_data where per_capita_income_ > :threshold"
      ],
      "execution_count": 55
    },
    {
      "cell_type": "code",
      "source": [
        "# Pandas\n",
        "print( df.loc[ df.per_capita_income_ > threshold ].community_area_name )"
      ],
      "metadata": {
        "colab": {
          "base_uri": "https://localhost:8080/"
        },
        "id": "_XzOib-0jOBj",
        "outputId": "8f45ad04-64ee-4be3-c6a8-19d5e5d23519"
      },
      "execution_count": 56,
      "outputs": [
        {
          "output_type": "stream",
          "name": "stdout",
          "text": [
            "5           Lake View\n",
            "6        Lincoln Park\n",
            "7     Near North Side\n",
            "31               Loop\n",
            "Name: community_area_name, dtype: object\n"
          ]
        }
      ]
    },
    {
      "cell_type": "markdown",
      "metadata": {
        "id": "670caa5c-1532-4fd8-952d-69c2752e6e72"
      },
      "source": [
        "**Alcuni scatter plot**\n",
        "\n"
      ]
    },
    {
      "cell_type": "code",
      "source": [
        "import seaborn"
      ],
      "metadata": {
        "id": "y3wMA8X2n9QU"
      },
      "execution_count": 74,
      "outputs": []
    },
    {
      "cell_type": "code",
      "metadata": {
        "id": "21cd0d45-6fa5-464f-bd49-a71afaf29f02",
        "colab": {
          "base_uri": "https://localhost:8080/",
          "height": 642
        },
        "outputId": "6bd9c6e2-59a8-46ff-dea4-2a5a4b5733cb"
      },
      "outputs": [
        {
          "output_type": "stream",
          "name": "stdout",
          "text": [
            " * sqlite:///socioeconomic.db\n",
            "Done.\n"
          ]
        },
        {
          "output_type": "display_data",
          "data": {
            "text/plain": [
              "<Figure size 600x600 with 3 Axes>"
            ],
            "image/png": "[encoded data removed]"
          },
          "metadata": {}
        }
      ],
      "source": [
        "income_vs_hardship = %sql SELECT per_capita_income_, hardship_index FROM chicago_socioeconomic_data;\n",
        "plot = sns.jointplot(x='per_capita_income_',y='hardship_index', data=income_vs_hardship.DataFrame())\n",
        "\n",
        "# negative correlation"
      ],
      "execution_count": 75
    },
    {
      "cell_type": "code",
      "source": [
        "income_vs_unemployed = %sql SELECT per_capita_income_, percent_aged_16_unemployed FROM chicago_socioeconomic_data;\n",
        "plot = sns.jointplot(x='per_capita_income_',y='percent_aged_16_unemployed', data=income_vs_unemployed.DataFrame())"
      ],
      "metadata": {
        "colab": {
          "base_uri": "https://localhost:8080/",
          "height": 642
        },
        "id": "5jJgSUvTjpqz",
        "outputId": "f30cb3e8-ab9e-40bf-bfa2-600cccf5f4e1"
      },
      "execution_count": 58,
      "outputs": [
        {
          "output_type": "stream",
          "name": "stdout",
          "text": [
            " * sqlite:///socioeconomic.db\n",
            "Done.\n"
          ]
        },
        {
          "output_type": "display_data",
          "data": {
            "text/plain": [
              "<Figure size 600x600 with 3 Axes>"
            ],
            "image/png": "[encoded data removed]"
          },
          "metadata": {}
        }
      ]
    },
    {
      "cell_type": "code",
      "source": [
        "income_vs_poverty = %sql SELECT per_capita_income_, percent_households_below_poverty FROM chicago_socioeconomic_data;\n",
        "plot = sns.jointplot(x='per_capita_income_',y='percent_households_below_poverty', data=income_vs_poverty.DataFrame())"
      ],
      "metadata": {
        "colab": {
          "base_uri": "https://localhost:8080/",
          "height": 642
        },
        "id": "EuohvXwYj9pN",
        "outputId": "a03f7f96-a1d9-4930-e0f6-7497f56e07f0"
      },
      "execution_count": 68,
      "outputs": [
        {
          "output_type": "stream",
          "name": "stdout",
          "text": [
            " * sqlite:///socioeconomic.db\n",
            "Done.\n"
          ]
        },
        {
          "output_type": "display_data",
          "data": {
            "text/plain": [
              "<Figure size 600x600 with 3 Axes>"
            ],
            "image/png": "[encoded data removed]"
          },
          "metadata": {}
        }
      ]
    }
  ],
  "metadata": {
    "kernelspec": {
      "display_name": "Python 3 (ipykernel)",
      "language": "python",
      "name": "python3"
    },
    "language_info": {
      "codemirror_mode": {
        "name": "ipython",
        "version": 3
      },
      "file_extension": ".py",
      "mimetype": "text/x-python",
      "name": "python",
      "nbconvert_exporter": "python",
      "pygments_lexer": "ipython3",
      "version": "3.12.8"
    },
    "prev_pub_hash": "8e027a24ff3e6baa3a502796dfd5fe5aa70ab98fad7ce2f3c59b05b598bddfbc",
    "colab": {
      "provenance": []
    }
  },
  "nbformat": 4,
  "nbformat_minor": 0
}