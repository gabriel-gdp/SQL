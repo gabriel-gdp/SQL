{
  "nbformat": 4,
  "nbformat_minor": 0,
  "metadata": {
    "colab": {
      "provenance": []
    },
    "kernelspec": {
      "name": "python3",
      "display_name": "Python 3"
    },
    "language_info": {
      "name": "python"
    }
  },
  "cells": [
    {
      "cell_type": "code",
      "source": [
        "import sqlite3\n",
        "%load_ext sql\n",
        "con = sqlite3.connect(\"database_prova.db\")  # connessione\n",
        "cur = con.cursor()  # cursore\n",
        "%sql sqlite:///database_prova.db"
      ],
      "metadata": {
        "colab": {
          "base_uri": "https://localhost:8080/"
        },
        "id": "AGlT0EIusqlt",
        "outputId": "ce731c76-20e6-4f11-ec62-ef9b7ae654d5"
      },
      "execution_count": 51,
      "outputs": [
        {
          "output_type": "stream",
          "name": "stdout",
          "text": [
            "The sql extension is already loaded. To reload it, use:\n",
            "  %reload_ext sql\n"
          ]
        }
      ]
    },
    {
      "cell_type": "markdown",
      "source": [
        "**Creazione e riempimento di due tabelle**\n",
        "\n",
        "Lo scopo è quello di sperimentare alcune query e i diversi tipi di join"
      ],
      "metadata": {
        "id": "WU_2VhOPt2WS"
      }
    },
    {
      "cell_type": "code",
      "source": [
        "%%sql\n",
        "\n",
        "DROP TABLE IF EXISTS persone;\n",
        "\n",
        "CREATE TABLE persone (\n",
        "    id INT PRIMARY KEY,\n",
        "    nome VARCHAR(50),\n",
        "    cognome VARCHAR(50),\n",
        "    sesso CHAR(1),\n",
        "    data_nascita DATE,\n",
        "    altezza DECIMAL(4,2),\n",
        "    peso DECIMAL(5,2),\n",
        "    cap VARCHAR(10),\n",
        "    provincia VARCHAR(50)\n",
        ");"
      ],
      "metadata": {
        "colab": {
          "base_uri": "https://localhost:8080/"
        },
        "id": "dOepWzIUtnxl",
        "outputId": "40435af7-fbe8-4d86-f7c3-4bcad64ade78"
      },
      "execution_count": 52,
      "outputs": [
        {
          "output_type": "stream",
          "name": "stdout",
          "text": [
            " * sqlite:///database_prova.db\n",
            "Done.\n",
            "Done.\n"
          ]
        },
        {
          "output_type": "execute_result",
          "data": {
            "text/plain": [
              "[]"
            ]
          },
          "metadata": {},
          "execution_count": 52
        }
      ]
    },
    {
      "cell_type": "code",
      "source": [
        "%%sql\n",
        "\n",
        "INSERT INTO persone (id, nome, cognome, sesso, data_nascita, altezza, peso, cap, provincia) VALUES\n",
        "(1, 'Luca', 'Rossi', 'M', '1985-06-15', 1.75, 70.5, '20121', 'Milano'),\n",
        "(2, 'Maria', 'Bianchi', 'F', '1990-09-22', 1.68, 58.2, '00184', 'Roma'),\n",
        "(3, 'Giovanni', 'Verdi', 'M', '1982-12-05', 1.80, 82.0, '10121', 'Torino'),\n",
        "(4, 'Elena', 'Neri', 'F', '1995-07-10', 1.65, 55.3, '80121', 'Napoli'),\n",
        "(5, 'Marco', 'Gallo', 'M', '1988-04-30', 1.78, 76.0, '50121', 'Firenze'),\n",
        "(6, 'Sara', 'Moretti', 'F', '1993-11-15', 1.72, 60.0, '35121', 'Padova'),\n",
        "(7, 'Alessandro', 'Romano', 'M', '1980-02-20', 1.85, 90.0, '90121', 'Palermo'),\n",
        "(8, 'Francesca', 'De Luca', 'F', '1992-05-25', 1.60, 50.4, '40121', 'Bologna'),\n",
        "(9, 'Giorgio', 'Fabbri', 'M', '1987-08-18', 1.77, 74.5, '15121', 'Alessandria'),\n",
        "(10, 'Martina', 'Ferrari', 'F', '1996-03-05', 1.63, 57.8, '70121', 'Bari'),\n",
        "(11, 'Paolo', 'Mancini', 'M', '1983-11-30', 1.82, 78.0, '60121', 'Ancona'),\n",
        "(12, 'Angela', 'Serra', 'F', '1991-06-22', 1.70, 62.1, '80122', 'Napoli'),\n",
        "(13, 'Fabio', 'Conti', 'M', '1984-12-10', 1.79, 79.9, '16121', 'Genova'),\n",
        "(14, 'Silvia', 'Pellegrini', 'F', '1994-09-01', 1.66, 56.7, '30121', 'Venezia'),\n",
        "(15, 'Davide', 'Ricci', 'M', '1986-07-07', 1.81, 80.5, '20122', 'Milano');"
      ],
      "metadata": {
        "colab": {
          "base_uri": "https://localhost:8080/"
        },
        "id": "J34Wws-Vt7kJ",
        "outputId": "995ec225-7428-4a3a-9710-359a0cb93f6b"
      },
      "execution_count": 53,
      "outputs": [
        {
          "output_type": "stream",
          "name": "stdout",
          "text": [
            " * sqlite:///database_prova.db\n",
            "15 rows affected.\n"
          ]
        },
        {
          "output_type": "execute_result",
          "data": {
            "text/plain": [
              "[]"
            ]
          },
          "metadata": {},
          "execution_count": 53
        }
      ]
    },
    {
      "cell_type": "code",
      "source": [
        "%%sql\n",
        "\n",
        "DROP TABLE IF EXISTS occupazione;\n",
        "\n",
        "CREATE TABLE occupazione (\n",
        "    persona_id INT PRIMARY KEY,\n",
        "    lavoro VARCHAR(100),\n",
        "    stipendio DECIMAL(10,2),\n",
        "    azienda VARCHAR(100),\n",
        "    FOREIGN KEY (persona_id) REFERENCES persone(id)\n",
        ");"
      ],
      "metadata": {
        "colab": {
          "base_uri": "https://localhost:8080/"
        },
        "id": "hvp3uRe_tw5p",
        "outputId": "e170c398-edf6-43c2-8aab-eb533211ca8a"
      },
      "execution_count": 54,
      "outputs": [
        {
          "output_type": "stream",
          "name": "stdout",
          "text": [
            " * sqlite:///database_prova.db\n",
            "Done.\n",
            "Done.\n"
          ]
        },
        {
          "output_type": "execute_result",
          "data": {
            "text/plain": [
              "[]"
            ]
          },
          "metadata": {},
          "execution_count": 54
        }
      ]
    },
    {
      "cell_type": "code",
      "source": [
        "%%sql\n",
        "\n",
        "INSERT INTO occupazione (persona_id, lavoro, stipendio, azienda) VALUES\n",
        "(1, 'Ingegnere', 4000.00, 'TechSolutions'),\n",
        "(2, 'Insegnante', 2500.00, 'Scuola Statale'),\n",
        "(3, 'Medico', 5000.00, 'Ospedale San Raffaele'),\n",
        "(4, 'Architetto', 3800.00, 'Studio ArchiDesign'),\n",
        "(6, 'Commercialista', 3200.00, 'Finance Group'),\n",
        "(7, 'Avvocato', 4500.00, 'Studio Legale Rossi'),\n",
        "(9, 'Programmatore', 3800.00, 'Software House'),\n",
        "(10, 'Designer', 2900.00, 'Creative Agency'),\n",
        "(12, 'Cuoco', 2700.00, 'Ristorante La Stella'),\n",
        "(14, 'Giornalista', 3100.00, 'Giornale La Notizia');\n"
      ],
      "metadata": {
        "colab": {
          "base_uri": "https://localhost:8080/"
        },
        "id": "LxN0FeluuBs8",
        "outputId": "e684abc1-17c4-4a26-ab38-13524eb87994"
      },
      "execution_count": 55,
      "outputs": [
        {
          "output_type": "stream",
          "name": "stdout",
          "text": [
            " * sqlite:///database_prova.db\n",
            "10 rows affected.\n"
          ]
        },
        {
          "output_type": "execute_result",
          "data": {
            "text/plain": [
              "[]"
            ]
          },
          "metadata": {},
          "execution_count": 55
        }
      ]
    },
    {
      "cell_type": "code",
      "source": [
        "# Libreria per creare tabelle\n",
        "!pip install ipython-sql prettytable\n",
        "import prettytable\n",
        "prettytable.DEFAULT = 'DEFAULT'"
      ],
      "metadata": {
        "colab": {
          "base_uri": "https://localhost:8080/"
        },
        "id": "SaPk5bgqub8a",
        "outputId": "8fdcbac6-f15b-4005-821f-8ca79020935b"
      },
      "execution_count": 56,
      "outputs": [
        {
          "output_type": "stream",
          "name": "stdout",
          "text": [
            "Requirement already satisfied: ipython-sql in /usr/local/lib/python3.11/dist-packages (0.5.0)\n",
            "Requirement already satisfied: prettytable in /usr/local/lib/python3.11/dist-packages (3.16.0)\n",
            "Requirement already satisfied: ipython in /usr/local/lib/python3.11/dist-packages (from ipython-sql) (7.34.0)\n",
            "Requirement already satisfied: sqlalchemy>=2.0 in /usr/local/lib/python3.11/dist-packages (from ipython-sql) (2.0.40)\n",
            "Requirement already satisfied: sqlparse in /usr/local/lib/python3.11/dist-packages (from ipython-sql) (0.5.3)\n",
            "Requirement already satisfied: six in /usr/local/lib/python3.11/dist-packages (from ipython-sql) (1.17.0)\n",
            "Requirement already satisfied: ipython-genutils in /usr/local/lib/python3.11/dist-packages (from ipython-sql) (0.2.0)\n",
            "Requirement already satisfied: wcwidth in /usr/local/lib/python3.11/dist-packages (from prettytable) (0.2.13)\n",
            "Requirement already satisfied: greenlet>=1 in /usr/local/lib/python3.11/dist-packages (from sqlalchemy>=2.0->ipython-sql) (3.1.1)\n",
            "Requirement already satisfied: typing-extensions>=4.6.0 in /usr/local/lib/python3.11/dist-packages (from sqlalchemy>=2.0->ipython-sql) (4.13.0)\n",
            "Requirement already satisfied: setuptools>=18.5 in /usr/local/lib/python3.11/dist-packages (from ipython->ipython-sql) (75.2.0)\n",
            "Requirement already satisfied: jedi>=0.16 in /usr/local/lib/python3.11/dist-packages (from ipython->ipython-sql) (0.19.2)\n",
            "Requirement already satisfied: decorator in /usr/local/lib/python3.11/dist-packages (from ipython->ipython-sql) (4.4.2)\n",
            "Requirement already satisfied: pickleshare in /usr/local/lib/python3.11/dist-packages (from ipython->ipython-sql) (0.7.5)\n",
            "Requirement already satisfied: traitlets>=4.2 in /usr/local/lib/python3.11/dist-packages (from ipython->ipython-sql) (5.7.1)\n",
            "Requirement already satisfied: prompt-toolkit!=3.0.0,!=3.0.1,<3.1.0,>=2.0.0 in /usr/local/lib/python3.11/dist-packages (from ipython->ipython-sql) (3.0.50)\n",
            "Requirement already satisfied: pygments in /usr/local/lib/python3.11/dist-packages (from ipython->ipython-sql) (2.18.0)\n",
            "Requirement already satisfied: backcall in /usr/local/lib/python3.11/dist-packages (from ipython->ipython-sql) (0.2.0)\n",
            "Requirement already satisfied: matplotlib-inline in /usr/local/lib/python3.11/dist-packages (from ipython->ipython-sql) (0.1.7)\n",
            "Requirement already satisfied: pexpect>4.3 in /usr/local/lib/python3.11/dist-packages (from ipython->ipython-sql) (4.9.0)\n",
            "Requirement already satisfied: parso<0.9.0,>=0.8.4 in /usr/local/lib/python3.11/dist-packages (from jedi>=0.16->ipython->ipython-sql) (0.8.4)\n",
            "Requirement already satisfied: ptyprocess>=0.5 in /usr/local/lib/python3.11/dist-packages (from pexpect>4.3->ipython->ipython-sql) (0.7.0)\n"
          ]
        }
      ]
    },
    {
      "cell_type": "markdown",
      "source": [
        "**Alcune query per esercizio**"
      ],
      "metadata": {
        "id": "hWK65PYluQp2"
      }
    },
    {
      "cell_type": "code",
      "source": [
        "%sql SELECT * FROM persone"
      ],
      "metadata": {
        "colab": {
          "base_uri": "https://localhost:8080/",
          "height": 389
        },
        "id": "5n6bhWbvuQ-5",
        "outputId": "da4c2920-270f-47ea-cf6c-a58fe88472c4"
      },
      "execution_count": 57,
      "outputs": [
        {
          "output_type": "stream",
          "name": "stdout",
          "text": [
            " * sqlite:///database_prova.db\n",
            "Done.\n"
          ]
        },
        {
          "output_type": "execute_result",
          "data": {
            "text/plain": [
              "[(1, 'Luca', 'Rossi', 'M', '1985-06-15', 1.75, 70.5, '20121', 'Milano'),\n",
              " (2, 'Maria', 'Bianchi', 'F', '1990-09-22', 1.68, 58.2, '00184', 'Roma'),\n",
              " (3, 'Giovanni', 'Verdi', 'M', '1982-12-05', 1.8, 82, '10121', 'Torino'),\n",
              " (4, 'Elena', 'Neri', 'F', '1995-07-10', 1.65, 55.3, '80121', 'Napoli'),\n",
              " (5, 'Marco', 'Gallo', 'M', '1988-04-30', 1.78, 76, '50121', 'Firenze'),\n",
              " (6, 'Sara', 'Moretti', 'F', '1993-11-15', 1.72, 60, '35121', 'Padova'),\n",
              " (7, 'Alessandro', 'Romano', 'M', '1980-02-20', 1.85, 90, '90121', 'Palermo'),\n",
              " (8, 'Francesca', 'De Luca', 'F', '1992-05-25', 1.6, 50.4, '40121', 'Bologna'),\n",
              " (9, 'Giorgio', 'Fabbri', 'M', '1987-08-18', 1.77, 74.5, '15121', 'Alessandria'),\n",
              " (10, 'Martina', 'Ferrari', 'F', '1996-03-05', 1.63, 57.8, '70121', 'Bari'),\n",
              " (11, 'Paolo', 'Mancini', 'M', '1983-11-30', 1.82, 78, '60121', 'Ancona'),\n",
              " (12, 'Angela', 'Serra', 'F', '1991-06-22', 1.7, 62.1, '80122', 'Napoli'),\n",
              " (13, 'Fabio', 'Conti', 'M', '1984-12-10', 1.79, 79.9, '16121', 'Genova'),\n",
              " (14, 'Silvia', 'Pellegrini', 'F', '1994-09-01', 1.66, 56.7, '30121', 'Venezia'),\n",
              " (15, 'Davide', 'Ricci', 'M', '1986-07-07', 1.81, 80.5, '20122', 'Milano')]"
            ],
            "text/html": [
              "<table>\n",
              "    <thead>\n",
              "        <tr>\n",
              "            <th>id</th>\n",
              "            <th>nome</th>\n",
              "            <th>cognome</th>\n",
              "            <th>sesso</th>\n",
              "            <th>data_nascita</th>\n",
              "            <th>altezza</th>\n",
              "            <th>peso</th>\n",
              "            <th>cap</th>\n",
              "            <th>provincia</th>\n",
              "        </tr>\n",
              "    </thead>\n",
              "    <tbody>\n",
              "        <tr>\n",
              "            <td>1</td>\n",
              "            <td>Luca</td>\n",
              "            <td>Rossi</td>\n",
              "            <td>M</td>\n",
              "            <td>1985-06-15</td>\n",
              "            <td>1.75</td>\n",
              "            <td>70.5</td>\n",
              "            <td>20121</td>\n",
              "            <td>Milano</td>\n",
              "        </tr>\n",
              "        <tr>\n",
              "            <td>2</td>\n",
              "            <td>Maria</td>\n",
              "            <td>Bianchi</td>\n",
              "            <td>F</td>\n",
              "            <td>1990-09-22</td>\n",
              "            <td>1.68</td>\n",
              "            <td>58.2</td>\n",
              "            <td>00184</td>\n",
              "            <td>Roma</td>\n",
              "        </tr>\n",
              "        <tr>\n",
              "            <td>3</td>\n",
              "            <td>Giovanni</td>\n",
              "            <td>Verdi</td>\n",
              "            <td>M</td>\n",
              "            <td>1982-12-05</td>\n",
              "            <td>1.8</td>\n",
              "            <td>82</td>\n",
              "            <td>10121</td>\n",
              "            <td>Torino</td>\n",
              "        </tr>\n",
              "        <tr>\n",
              "            <td>4</td>\n",
              "            <td>Elena</td>\n",
              "            <td>Neri</td>\n",
              "            <td>F</td>\n",
              "            <td>1995-07-10</td>\n",
              "            <td>1.65</td>\n",
              "            <td>55.3</td>\n",
              "            <td>80121</td>\n",
              "            <td>Napoli</td>\n",
              "        </tr>\n",
              "        <tr>\n",
              "            <td>5</td>\n",
              "            <td>Marco</td>\n",
              "            <td>Gallo</td>\n",
              "            <td>M</td>\n",
              "            <td>1988-04-30</td>\n",
              "            <td>1.78</td>\n",
              "            <td>76</td>\n",
              "            <td>50121</td>\n",
              "            <td>Firenze</td>\n",
              "        </tr>\n",
              "        <tr>\n",
              "            <td>6</td>\n",
              "            <td>Sara</td>\n",
              "            <td>Moretti</td>\n",
              "            <td>F</td>\n",
              "            <td>1993-11-15</td>\n",
              "            <td>1.72</td>\n",
              "            <td>60</td>\n",
              "            <td>35121</td>\n",
              "            <td>Padova</td>\n",
              "        </tr>\n",
              "        <tr>\n",
              "            <td>7</td>\n",
              "            <td>Alessandro</td>\n",
              "            <td>Romano</td>\n",
              "            <td>M</td>\n",
              "            <td>1980-02-20</td>\n",
              "            <td>1.85</td>\n",
              "            <td>90</td>\n",
              "            <td>90121</td>\n",
              "            <td>Palermo</td>\n",
              "        </tr>\n",
              "        <tr>\n",
              "            <td>8</td>\n",
              "            <td>Francesca</td>\n",
              "            <td>De Luca</td>\n",
              "            <td>F</td>\n",
              "            <td>1992-05-25</td>\n",
              "            <td>1.6</td>\n",
              "            <td>50.4</td>\n",
              "            <td>40121</td>\n",
              "            <td>Bologna</td>\n",
              "        </tr>\n",
              "        <tr>\n",
              "            <td>9</td>\n",
              "            <td>Giorgio</td>\n",
              "            <td>Fabbri</td>\n",
              "            <td>M</td>\n",
              "            <td>1987-08-18</td>\n",
              "            <td>1.77</td>\n",
              "            <td>74.5</td>\n",
              "            <td>15121</td>\n",
              "            <td>Alessandria</td>\n",
              "        </tr>\n",
              "        <tr>\n",
              "            <td>10</td>\n",
              "            <td>Martina</td>\n",
              "            <td>Ferrari</td>\n",
              "            <td>F</td>\n",
              "            <td>1996-03-05</td>\n",
              "            <td>1.63</td>\n",
              "            <td>57.8</td>\n",
              "            <td>70121</td>\n",
              "            <td>Bari</td>\n",
              "        </tr>\n",
              "        <tr>\n",
              "            <td>11</td>\n",
              "            <td>Paolo</td>\n",
              "            <td>Mancini</td>\n",
              "            <td>M</td>\n",
              "            <td>1983-11-30</td>\n",
              "            <td>1.82</td>\n",
              "            <td>78</td>\n",
              "            <td>60121</td>\n",
              "            <td>Ancona</td>\n",
              "        </tr>\n",
              "        <tr>\n",
              "            <td>12</td>\n",
              "            <td>Angela</td>\n",
              "            <td>Serra</td>\n",
              "            <td>F</td>\n",
              "            <td>1991-06-22</td>\n",
              "            <td>1.7</td>\n",
              "            <td>62.1</td>\n",
              "            <td>80122</td>\n",
              "            <td>Napoli</td>\n",
              "        </tr>\n",
              "        <tr>\n",
              "            <td>13</td>\n",
              "            <td>Fabio</td>\n",
              "            <td>Conti</td>\n",
              "            <td>M</td>\n",
              "            <td>1984-12-10</td>\n",
              "            <td>1.79</td>\n",
              "            <td>79.9</td>\n",
              "            <td>16121</td>\n",
              "            <td>Genova</td>\n",
              "        </tr>\n",
              "        <tr>\n",
              "            <td>14</td>\n",
              "            <td>Silvia</td>\n",
              "            <td>Pellegrini</td>\n",
              "            <td>F</td>\n",
              "            <td>1994-09-01</td>\n",
              "            <td>1.66</td>\n",
              "            <td>56.7</td>\n",
              "            <td>30121</td>\n",
              "            <td>Venezia</td>\n",
              "        </tr>\n",
              "        <tr>\n",
              "            <td>15</td>\n",
              "            <td>Davide</td>\n",
              "            <td>Ricci</td>\n",
              "            <td>M</td>\n",
              "            <td>1986-07-07</td>\n",
              "            <td>1.81</td>\n",
              "            <td>80.5</td>\n",
              "            <td>20122</td>\n",
              "            <td>Milano</td>\n",
              "        </tr>\n",
              "    </tbody>\n",
              "</table>"
            ]
          },
          "metadata": {},
          "execution_count": 57
        }
      ]
    },
    {
      "cell_type": "code",
      "source": [
        "# Aggiungo una colonna con l'Indice di Massa Corporea (imc): peso in kg diviso per l'altezza in m al quadrato\n",
        "%%sql\n",
        "ALTER TABLE persone ADD imc REAL;\n",
        "\n",
        "UPDATE persone SET imc =  ROUND(peso / (altezza * altezza), 2);"
      ],
      "metadata": {
        "colab": {
          "base_uri": "https://localhost:8080/"
        },
        "id": "CLFdsmLb2RBd",
        "outputId": "68fc3eb2-087a-4faf-a8e4-56b8dbdb2d12"
      },
      "execution_count": 58,
      "outputs": [
        {
          "output_type": "stream",
          "name": "stdout",
          "text": [
            " * sqlite:///database_prova.db\n",
            "Done.\n",
            "15 rows affected.\n"
          ]
        },
        {
          "output_type": "execute_result",
          "data": {
            "text/plain": [
              "[]"
            ]
          },
          "metadata": {},
          "execution_count": 58
        }
      ]
    },
    {
      "cell_type": "code",
      "source": [
        "%sql SELECT * FROM persone"
      ],
      "metadata": {
        "colab": {
          "base_uri": "https://localhost:8080/",
          "height": 389
        },
        "id": "5yHzGhZJ3Bbo",
        "outputId": "3dd1b80a-c0fb-4356-ab20-ac23efe83127"
      },
      "execution_count": 59,
      "outputs": [
        {
          "output_type": "stream",
          "name": "stdout",
          "text": [
            " * sqlite:///database_prova.db\n",
            "Done.\n"
          ]
        },
        {
          "output_type": "execute_result",
          "data": {
            "text/plain": [
              "[(1, 'Luca', 'Rossi', 'M', '1985-06-15', 1.75, 70.5, '20121', 'Milano', 23.02),\n",
              " (2, 'Maria', 'Bianchi', 'F', '1990-09-22', 1.68, 58.2, '00184', 'Roma', 20.62),\n",
              " (3, 'Giovanni', 'Verdi', 'M', '1982-12-05', 1.8, 82, '10121', 'Torino', 25.31),\n",
              " (4, 'Elena', 'Neri', 'F', '1995-07-10', 1.65, 55.3, '80121', 'Napoli', 20.31),\n",
              " (5, 'Marco', 'Gallo', 'M', '1988-04-30', 1.78, 76, '50121', 'Firenze', 23.99),\n",
              " (6, 'Sara', 'Moretti', 'F', '1993-11-15', 1.72, 60, '35121', 'Padova', 20.28),\n",
              " (7, 'Alessandro', 'Romano', 'M', '1980-02-20', 1.85, 90, '90121', 'Palermo', 26.3),\n",
              " (8, 'Francesca', 'De Luca', 'F', '1992-05-25', 1.6, 50.4, '40121', 'Bologna', 19.69),\n",
              " (9, 'Giorgio', 'Fabbri', 'M', '1987-08-18', 1.77, 74.5, '15121', 'Alessandria', 23.78),\n",
              " (10, 'Martina', 'Ferrari', 'F', '1996-03-05', 1.63, 57.8, '70121', 'Bari', 21.75),\n",
              " (11, 'Paolo', 'Mancini', 'M', '1983-11-30', 1.82, 78, '60121', 'Ancona', 23.55),\n",
              " (12, 'Angela', 'Serra', 'F', '1991-06-22', 1.7, 62.1, '80122', 'Napoli', 21.49),\n",
              " (13, 'Fabio', 'Conti', 'M', '1984-12-10', 1.79, 79.9, '16121', 'Genova', 24.94),\n",
              " (14, 'Silvia', 'Pellegrini', 'F', '1994-09-01', 1.66, 56.7, '30121', 'Venezia', 20.58),\n",
              " (15, 'Davide', 'Ricci', 'M', '1986-07-07', 1.81, 80.5, '20122', 'Milano', 24.57)]"
            ],
            "text/html": [
              "<table>\n",
              "    <thead>\n",
              "        <tr>\n",
              "            <th>id</th>\n",
              "            <th>nome</th>\n",
              "            <th>cognome</th>\n",
              "            <th>sesso</th>\n",
              "            <th>data_nascita</th>\n",
              "            <th>altezza</th>\n",
              "            <th>peso</th>\n",
              "            <th>cap</th>\n",
              "            <th>provincia</th>\n",
              "            <th>imc</th>\n",
              "        </tr>\n",
              "    </thead>\n",
              "    <tbody>\n",
              "        <tr>\n",
              "            <td>1</td>\n",
              "            <td>Luca</td>\n",
              "            <td>Rossi</td>\n",
              "            <td>M</td>\n",
              "            <td>1985-06-15</td>\n",
              "            <td>1.75</td>\n",
              "            <td>70.5</td>\n",
              "            <td>20121</td>\n",
              "            <td>Milano</td>\n",
              "            <td>23.02</td>\n",
              "        </tr>\n",
              "        <tr>\n",
              "            <td>2</td>\n",
              "            <td>Maria</td>\n",
              "            <td>Bianchi</td>\n",
              "            <td>F</td>\n",
              "            <td>1990-09-22</td>\n",
              "            <td>1.68</td>\n",
              "            <td>58.2</td>\n",
              "            <td>00184</td>\n",
              "            <td>Roma</td>\n",
              "            <td>20.62</td>\n",
              "        </tr>\n",
              "        <tr>\n",
              "            <td>3</td>\n",
              "            <td>Giovanni</td>\n",
              "            <td>Verdi</td>\n",
              "            <td>M</td>\n",
              "            <td>1982-12-05</td>\n",
              "            <td>1.8</td>\n",
              "            <td>82</td>\n",
              "            <td>10121</td>\n",
              "            <td>Torino</td>\n",
              "            <td>25.31</td>\n",
              "        </tr>\n",
              "        <tr>\n",
              "            <td>4</td>\n",
              "            <td>Elena</td>\n",
              "            <td>Neri</td>\n",
              "            <td>F</td>\n",
              "            <td>1995-07-10</td>\n",
              "            <td>1.65</td>\n",
              "            <td>55.3</td>\n",
              "            <td>80121</td>\n",
              "            <td>Napoli</td>\n",
              "            <td>20.31</td>\n",
              "        </tr>\n",
              "        <tr>\n",
              "            <td>5</td>\n",
              "            <td>Marco</td>\n",
              "            <td>Gallo</td>\n",
              "            <td>M</td>\n",
              "            <td>1988-04-30</td>\n",
              "            <td>1.78</td>\n",
              "            <td>76</td>\n",
              "            <td>50121</td>\n",
              "            <td>Firenze</td>\n",
              "            <td>23.99</td>\n",
              "        </tr>\n",
              "        <tr>\n",
              "            <td>6</td>\n",
              "            <td>Sara</td>\n",
              "            <td>Moretti</td>\n",
              "            <td>F</td>\n",
              "            <td>1993-11-15</td>\n",
              "            <td>1.72</td>\n",
              "            <td>60</td>\n",
              "            <td>35121</td>\n",
              "            <td>Padova</td>\n",
              "            <td>20.28</td>\n",
              "        </tr>\n",
              "        <tr>\n",
              "            <td>7</td>\n",
              "            <td>Alessandro</td>\n",
              "            <td>Romano</td>\n",
              "            <td>M</td>\n",
              "            <td>1980-02-20</td>\n",
              "            <td>1.85</td>\n",
              "            <td>90</td>\n",
              "            <td>90121</td>\n",
              "            <td>Palermo</td>\n",
              "            <td>26.3</td>\n",
              "        </tr>\n",
              "        <tr>\n",
              "            <td>8</td>\n",
              "            <td>Francesca</td>\n",
              "            <td>De Luca</td>\n",
              "            <td>F</td>\n",
              "            <td>1992-05-25</td>\n",
              "            <td>1.6</td>\n",
              "            <td>50.4</td>\n",
              "            <td>40121</td>\n",
              "            <td>Bologna</td>\n",
              "            <td>19.69</td>\n",
              "        </tr>\n",
              "        <tr>\n",
              "            <td>9</td>\n",
              "            <td>Giorgio</td>\n",
              "            <td>Fabbri</td>\n",
              "            <td>M</td>\n",
              "            <td>1987-08-18</td>\n",
              "            <td>1.77</td>\n",
              "            <td>74.5</td>\n",
              "            <td>15121</td>\n",
              "            <td>Alessandria</td>\n",
              "            <td>23.78</td>\n",
              "        </tr>\n",
              "        <tr>\n",
              "            <td>10</td>\n",
              "            <td>Martina</td>\n",
              "            <td>Ferrari</td>\n",
              "            <td>F</td>\n",
              "            <td>1996-03-05</td>\n",
              "            <td>1.63</td>\n",
              "            <td>57.8</td>\n",
              "            <td>70121</td>\n",
              "            <td>Bari</td>\n",
              "            <td>21.75</td>\n",
              "        </tr>\n",
              "        <tr>\n",
              "            <td>11</td>\n",
              "            <td>Paolo</td>\n",
              "            <td>Mancini</td>\n",
              "            <td>M</td>\n",
              "            <td>1983-11-30</td>\n",
              "            <td>1.82</td>\n",
              "            <td>78</td>\n",
              "            <td>60121</td>\n",
              "            <td>Ancona</td>\n",
              "            <td>23.55</td>\n",
              "        </tr>\n",
              "        <tr>\n",
              "            <td>12</td>\n",
              "            <td>Angela</td>\n",
              "            <td>Serra</td>\n",
              "            <td>F</td>\n",
              "            <td>1991-06-22</td>\n",
              "            <td>1.7</td>\n",
              "            <td>62.1</td>\n",
              "            <td>80122</td>\n",
              "            <td>Napoli</td>\n",
              "            <td>21.49</td>\n",
              "        </tr>\n",
              "        <tr>\n",
              "            <td>13</td>\n",
              "            <td>Fabio</td>\n",
              "            <td>Conti</td>\n",
              "            <td>M</td>\n",
              "            <td>1984-12-10</td>\n",
              "            <td>1.79</td>\n",
              "            <td>79.9</td>\n",
              "            <td>16121</td>\n",
              "            <td>Genova</td>\n",
              "            <td>24.94</td>\n",
              "        </tr>\n",
              "        <tr>\n",
              "            <td>14</td>\n",
              "            <td>Silvia</td>\n",
              "            <td>Pellegrini</td>\n",
              "            <td>F</td>\n",
              "            <td>1994-09-01</td>\n",
              "            <td>1.66</td>\n",
              "            <td>56.7</td>\n",
              "            <td>30121</td>\n",
              "            <td>Venezia</td>\n",
              "            <td>20.58</td>\n",
              "        </tr>\n",
              "        <tr>\n",
              "            <td>15</td>\n",
              "            <td>Davide</td>\n",
              "            <td>Ricci</td>\n",
              "            <td>M</td>\n",
              "            <td>1986-07-07</td>\n",
              "            <td>1.81</td>\n",
              "            <td>80.5</td>\n",
              "            <td>20122</td>\n",
              "            <td>Milano</td>\n",
              "            <td>24.57</td>\n",
              "        </tr>\n",
              "    </tbody>\n",
              "</table>"
            ]
          },
          "metadata": {},
          "execution_count": 59
        }
      ]
    },
    {
      "cell_type": "code",
      "source": [
        "%sql SELECT * FROM occupazione"
      ],
      "metadata": {
        "colab": {
          "base_uri": "https://localhost:8080/",
          "height": 284
        },
        "id": "uSOVv1HVyKla",
        "outputId": "057028d9-8b07-4835-9422-22ca0596052f"
      },
      "execution_count": 60,
      "outputs": [
        {
          "output_type": "stream",
          "name": "stdout",
          "text": [
            " * sqlite:///database_prova.db\n",
            "Done.\n"
          ]
        },
        {
          "output_type": "execute_result",
          "data": {
            "text/plain": [
              "[(1, 'Ingegnere', 4000, 'TechSolutions'),\n",
              " (2, 'Insegnante', 2500, 'Scuola Statale'),\n",
              " (3, 'Medico', 5000, 'Ospedale San Raffaele'),\n",
              " (4, 'Architetto', 3800, 'Studio ArchiDesign'),\n",
              " (6, 'Commercialista', 3200, 'Finance Group'),\n",
              " (7, 'Avvocato', 4500, 'Studio Legale Rossi'),\n",
              " (9, 'Programmatore', 3800, 'Software House'),\n",
              " (10, 'Designer', 2900, 'Creative Agency'),\n",
              " (12, 'Cuoco', 2700, 'Ristorante La Stella'),\n",
              " (14, 'Giornalista', 3100, 'Giornale La Notizia')]"
            ],
            "text/html": [
              "<table>\n",
              "    <thead>\n",
              "        <tr>\n",
              "            <th>persona_id</th>\n",
              "            <th>lavoro</th>\n",
              "            <th>stipendio</th>\n",
              "            <th>azienda</th>\n",
              "        </tr>\n",
              "    </thead>\n",
              "    <tbody>\n",
              "        <tr>\n",
              "            <td>1</td>\n",
              "            <td>Ingegnere</td>\n",
              "            <td>4000</td>\n",
              "            <td>TechSolutions</td>\n",
              "        </tr>\n",
              "        <tr>\n",
              "            <td>2</td>\n",
              "            <td>Insegnante</td>\n",
              "            <td>2500</td>\n",
              "            <td>Scuola Statale</td>\n",
              "        </tr>\n",
              "        <tr>\n",
              "            <td>3</td>\n",
              "            <td>Medico</td>\n",
              "            <td>5000</td>\n",
              "            <td>Ospedale San Raffaele</td>\n",
              "        </tr>\n",
              "        <tr>\n",
              "            <td>4</td>\n",
              "            <td>Architetto</td>\n",
              "            <td>3800</td>\n",
              "            <td>Studio ArchiDesign</td>\n",
              "        </tr>\n",
              "        <tr>\n",
              "            <td>6</td>\n",
              "            <td>Commercialista</td>\n",
              "            <td>3200</td>\n",
              "            <td>Finance Group</td>\n",
              "        </tr>\n",
              "        <tr>\n",
              "            <td>7</td>\n",
              "            <td>Avvocato</td>\n",
              "            <td>4500</td>\n",
              "            <td>Studio Legale Rossi</td>\n",
              "        </tr>\n",
              "        <tr>\n",
              "            <td>9</td>\n",
              "            <td>Programmatore</td>\n",
              "            <td>3800</td>\n",
              "            <td>Software House</td>\n",
              "        </tr>\n",
              "        <tr>\n",
              "            <td>10</td>\n",
              "            <td>Designer</td>\n",
              "            <td>2900</td>\n",
              "            <td>Creative Agency</td>\n",
              "        </tr>\n",
              "        <tr>\n",
              "            <td>12</td>\n",
              "            <td>Cuoco</td>\n",
              "            <td>2700</td>\n",
              "            <td>Ristorante La Stella</td>\n",
              "        </tr>\n",
              "        <tr>\n",
              "            <td>14</td>\n",
              "            <td>Giornalista</td>\n",
              "            <td>3100</td>\n",
              "            <td>Giornale La Notizia</td>\n",
              "        </tr>\n",
              "    </tbody>\n",
              "</table>"
            ]
          },
          "metadata": {},
          "execution_count": 60
        }
      ]
    },
    {
      "cell_type": "code",
      "source": [
        "# INNER JOIN: solo record che hanno una corrispondenza in entrambe le tabelle\n",
        "# Ritorna solo quelle persone con id presenti in entrambe le colonne\n",
        "%%sql\n",
        "SELECT p.id, p.nome, p.cognome, o.lavoro, o.azienda, o.stipendio\n",
        "FROM persone p\n",
        "INNER JOIN occupazione o ON p.id = o.persona_id;"
      ],
      "metadata": {
        "colab": {
          "base_uri": "https://localhost:8080/",
          "height": 284
        },
        "id": "pG_BCTqfyPJl",
        "outputId": "cc45424f-9b93-4438-fe2d-a8f7b7523fdf"
      },
      "execution_count": 61,
      "outputs": [
        {
          "output_type": "stream",
          "name": "stdout",
          "text": [
            " * sqlite:///database_prova.db\n",
            "Done.\n"
          ]
        },
        {
          "output_type": "execute_result",
          "data": {
            "text/plain": [
              "[(1, 'Luca', 'Rossi', 'Ingegnere', 'TechSolutions', 4000),\n",
              " (2, 'Maria', 'Bianchi', 'Insegnante', 'Scuola Statale', 2500),\n",
              " (3, 'Giovanni', 'Verdi', 'Medico', 'Ospedale San Raffaele', 5000),\n",
              " (4, 'Elena', 'Neri', 'Architetto', 'Studio ArchiDesign', 3800),\n",
              " (6, 'Sara', 'Moretti', 'Commercialista', 'Finance Group', 3200),\n",
              " (7, 'Alessandro', 'Romano', 'Avvocato', 'Studio Legale Rossi', 4500),\n",
              " (9, 'Giorgio', 'Fabbri', 'Programmatore', 'Software House', 3800),\n",
              " (10, 'Martina', 'Ferrari', 'Designer', 'Creative Agency', 2900),\n",
              " (12, 'Angela', 'Serra', 'Cuoco', 'Ristorante La Stella', 2700),\n",
              " (14, 'Silvia', 'Pellegrini', 'Giornalista', 'Giornale La Notizia', 3100)]"
            ],
            "text/html": [
              "<table>\n",
              "    <thead>\n",
              "        <tr>\n",
              "            <th>id</th>\n",
              "            <th>nome</th>\n",
              "            <th>cognome</th>\n",
              "            <th>lavoro</th>\n",
              "            <th>azienda</th>\n",
              "            <th>stipendio</th>\n",
              "        </tr>\n",
              "    </thead>\n",
              "    <tbody>\n",
              "        <tr>\n",
              "            <td>1</td>\n",
              "            <td>Luca</td>\n",
              "            <td>Rossi</td>\n",
              "            <td>Ingegnere</td>\n",
              "            <td>TechSolutions</td>\n",
              "            <td>4000</td>\n",
              "        </tr>\n",
              "        <tr>\n",
              "            <td>2</td>\n",
              "            <td>Maria</td>\n",
              "            <td>Bianchi</td>\n",
              "            <td>Insegnante</td>\n",
              "            <td>Scuola Statale</td>\n",
              "            <td>2500</td>\n",
              "        </tr>\n",
              "        <tr>\n",
              "            <td>3</td>\n",
              "            <td>Giovanni</td>\n",
              "            <td>Verdi</td>\n",
              "            <td>Medico</td>\n",
              "            <td>Ospedale San Raffaele</td>\n",
              "            <td>5000</td>\n",
              "        </tr>\n",
              "        <tr>\n",
              "            <td>4</td>\n",
              "            <td>Elena</td>\n",
              "            <td>Neri</td>\n",
              "            <td>Architetto</td>\n",
              "            <td>Studio ArchiDesign</td>\n",
              "            <td>3800</td>\n",
              "        </tr>\n",
              "        <tr>\n",
              "            <td>6</td>\n",
              "            <td>Sara</td>\n",
              "            <td>Moretti</td>\n",
              "            <td>Commercialista</td>\n",
              "            <td>Finance Group</td>\n",
              "            <td>3200</td>\n",
              "        </tr>\n",
              "        <tr>\n",
              "            <td>7</td>\n",
              "            <td>Alessandro</td>\n",
              "            <td>Romano</td>\n",
              "            <td>Avvocato</td>\n",
              "            <td>Studio Legale Rossi</td>\n",
              "            <td>4500</td>\n",
              "        </tr>\n",
              "        <tr>\n",
              "            <td>9</td>\n",
              "            <td>Giorgio</td>\n",
              "            <td>Fabbri</td>\n",
              "            <td>Programmatore</td>\n",
              "            <td>Software House</td>\n",
              "            <td>3800</td>\n",
              "        </tr>\n",
              "        <tr>\n",
              "            <td>10</td>\n",
              "            <td>Martina</td>\n",
              "            <td>Ferrari</td>\n",
              "            <td>Designer</td>\n",
              "            <td>Creative Agency</td>\n",
              "            <td>2900</td>\n",
              "        </tr>\n",
              "        <tr>\n",
              "            <td>12</td>\n",
              "            <td>Angela</td>\n",
              "            <td>Serra</td>\n",
              "            <td>Cuoco</td>\n",
              "            <td>Ristorante La Stella</td>\n",
              "            <td>2700</td>\n",
              "        </tr>\n",
              "        <tr>\n",
              "            <td>14</td>\n",
              "            <td>Silvia</td>\n",
              "            <td>Pellegrini</td>\n",
              "            <td>Giornalista</td>\n",
              "            <td>Giornale La Notizia</td>\n",
              "            <td>3100</td>\n",
              "        </tr>\n",
              "    </tbody>\n",
              "</table>"
            ]
          },
          "metadata": {},
          "execution_count": 61
        }
      ]
    },
    {
      "cell_type": "code",
      "source": [
        "# LEFT JOIN: visualizza tutti i record della tabella di sinistra e dove non c'è corrispondenza mette None\n",
        "# Ritorna tutte le persone, alcune non sono nella tabella occupazione, dunque compare None\n",
        "%%sql\n",
        "SELECT p.id, p.nome, p.cognome, o.lavoro, o.azienda, o.stipendio\n",
        "FROM persone p\n",
        "LEFT JOIN occupazione o ON p.id = o.persona_id;"
      ],
      "metadata": {
        "colab": {
          "base_uri": "https://localhost:8080/",
          "height": 389
        },
        "id": "ITYtu-8SzGIc",
        "outputId": "79f247a4-b6e5-4454-8f89-592338c7c8bd"
      },
      "execution_count": 62,
      "outputs": [
        {
          "output_type": "stream",
          "name": "stdout",
          "text": [
            " * sqlite:///database_prova.db\n",
            "Done.\n"
          ]
        },
        {
          "output_type": "execute_result",
          "data": {
            "text/plain": [
              "[(1, 'Luca', 'Rossi', 'Ingegnere', 'TechSolutions', 4000),\n",
              " (2, 'Maria', 'Bianchi', 'Insegnante', 'Scuola Statale', 2500),\n",
              " (3, 'Giovanni', 'Verdi', 'Medico', 'Ospedale San Raffaele', 5000),\n",
              " (4, 'Elena', 'Neri', 'Architetto', 'Studio ArchiDesign', 3800),\n",
              " (5, 'Marco', 'Gallo', None, None, None),\n",
              " (6, 'Sara', 'Moretti', 'Commercialista', 'Finance Group', 3200),\n",
              " (7, 'Alessandro', 'Romano', 'Avvocato', 'Studio Legale Rossi', 4500),\n",
              " (8, 'Francesca', 'De Luca', None, None, None),\n",
              " (9, 'Giorgio', 'Fabbri', 'Programmatore', 'Software House', 3800),\n",
              " (10, 'Martina', 'Ferrari', 'Designer', 'Creative Agency', 2900),\n",
              " (11, 'Paolo', 'Mancini', None, None, None),\n",
              " (12, 'Angela', 'Serra', 'Cuoco', 'Ristorante La Stella', 2700),\n",
              " (13, 'Fabio', 'Conti', None, None, None),\n",
              " (14, 'Silvia', 'Pellegrini', 'Giornalista', 'Giornale La Notizia', 3100),\n",
              " (15, 'Davide', 'Ricci', None, None, None)]"
            ],
            "text/html": [
              "<table>\n",
              "    <thead>\n",
              "        <tr>\n",
              "            <th>id</th>\n",
              "            <th>nome</th>\n",
              "            <th>cognome</th>\n",
              "            <th>lavoro</th>\n",
              "            <th>azienda</th>\n",
              "            <th>stipendio</th>\n",
              "        </tr>\n",
              "    </thead>\n",
              "    <tbody>\n",
              "        <tr>\n",
              "            <td>1</td>\n",
              "            <td>Luca</td>\n",
              "            <td>Rossi</td>\n",
              "            <td>Ingegnere</td>\n",
              "            <td>TechSolutions</td>\n",
              "            <td>4000</td>\n",
              "        </tr>\n",
              "        <tr>\n",
              "            <td>2</td>\n",
              "            <td>Maria</td>\n",
              "            <td>Bianchi</td>\n",
              "            <td>Insegnante</td>\n",
              "            <td>Scuola Statale</td>\n",
              "            <td>2500</td>\n",
              "        </tr>\n",
              "        <tr>\n",
              "            <td>3</td>\n",
              "            <td>Giovanni</td>\n",
              "            <td>Verdi</td>\n",
              "            <td>Medico</td>\n",
              "            <td>Ospedale San Raffaele</td>\n",
              "            <td>5000</td>\n",
              "        </tr>\n",
              "        <tr>\n",
              "            <td>4</td>\n",
              "            <td>Elena</td>\n",
              "            <td>Neri</td>\n",
              "            <td>Architetto</td>\n",
              "            <td>Studio ArchiDesign</td>\n",
              "            <td>3800</td>\n",
              "        </tr>\n",
              "        <tr>\n",
              "            <td>5</td>\n",
              "            <td>Marco</td>\n",
              "            <td>Gallo</td>\n",
              "            <td>None</td>\n",
              "            <td>None</td>\n",
              "            <td>None</td>\n",
              "        </tr>\n",
              "        <tr>\n",
              "            <td>6</td>\n",
              "            <td>Sara</td>\n",
              "            <td>Moretti</td>\n",
              "            <td>Commercialista</td>\n",
              "            <td>Finance Group</td>\n",
              "            <td>3200</td>\n",
              "        </tr>\n",
              "        <tr>\n",
              "            <td>7</td>\n",
              "            <td>Alessandro</td>\n",
              "            <td>Romano</td>\n",
              "            <td>Avvocato</td>\n",
              "            <td>Studio Legale Rossi</td>\n",
              "            <td>4500</td>\n",
              "        </tr>\n",
              "        <tr>\n",
              "            <td>8</td>\n",
              "            <td>Francesca</td>\n",
              "            <td>De Luca</td>\n",
              "            <td>None</td>\n",
              "            <td>None</td>\n",
              "            <td>None</td>\n",
              "        </tr>\n",
              "        <tr>\n",
              "            <td>9</td>\n",
              "            <td>Giorgio</td>\n",
              "            <td>Fabbri</td>\n",
              "            <td>Programmatore</td>\n",
              "            <td>Software House</td>\n",
              "            <td>3800</td>\n",
              "        </tr>\n",
              "        <tr>\n",
              "            <td>10</td>\n",
              "            <td>Martina</td>\n",
              "            <td>Ferrari</td>\n",
              "            <td>Designer</td>\n",
              "            <td>Creative Agency</td>\n",
              "            <td>2900</td>\n",
              "        </tr>\n",
              "        <tr>\n",
              "            <td>11</td>\n",
              "            <td>Paolo</td>\n",
              "            <td>Mancini</td>\n",
              "            <td>None</td>\n",
              "            <td>None</td>\n",
              "            <td>None</td>\n",
              "        </tr>\n",
              "        <tr>\n",
              "            <td>12</td>\n",
              "            <td>Angela</td>\n",
              "            <td>Serra</td>\n",
              "            <td>Cuoco</td>\n",
              "            <td>Ristorante La Stella</td>\n",
              "            <td>2700</td>\n",
              "        </tr>\n",
              "        <tr>\n",
              "            <td>13</td>\n",
              "            <td>Fabio</td>\n",
              "            <td>Conti</td>\n",
              "            <td>None</td>\n",
              "            <td>None</td>\n",
              "            <td>None</td>\n",
              "        </tr>\n",
              "        <tr>\n",
              "            <td>14</td>\n",
              "            <td>Silvia</td>\n",
              "            <td>Pellegrini</td>\n",
              "            <td>Giornalista</td>\n",
              "            <td>Giornale La Notizia</td>\n",
              "            <td>3100</td>\n",
              "        </tr>\n",
              "        <tr>\n",
              "            <td>15</td>\n",
              "            <td>Davide</td>\n",
              "            <td>Ricci</td>\n",
              "            <td>None</td>\n",
              "            <td>None</td>\n",
              "            <td>None</td>\n",
              "        </tr>\n",
              "    </tbody>\n",
              "</table>"
            ]
          },
          "metadata": {},
          "execution_count": 62
        }
      ]
    },
    {
      "cell_type": "code",
      "source": [
        "# Persone che non hanno un lavoro\n",
        "\n",
        "%%sql\n",
        "SELECT p.id, p.nome, p.cognome\n",
        "FROM persone p\n",
        "LEFT JOIN occupazione o ON p.id = o.persona_id\n",
        "WHERE o.lavoro IS NULL;"
      ],
      "metadata": {
        "colab": {
          "base_uri": "https://localhost:8080/",
          "height": 179
        },
        "id": "eTvu6znW0cRo",
        "outputId": "9c00a510-7520-4c5d-edc4-b66a3799131c"
      },
      "execution_count": 63,
      "outputs": [
        {
          "output_type": "stream",
          "name": "stdout",
          "text": [
            " * sqlite:///database_prova.db\n",
            "Done.\n"
          ]
        },
        {
          "output_type": "execute_result",
          "data": {
            "text/plain": [
              "[(5, 'Marco', 'Gallo'),\n",
              " (8, 'Francesca', 'De Luca'),\n",
              " (11, 'Paolo', 'Mancini'),\n",
              " (13, 'Fabio', 'Conti'),\n",
              " (15, 'Davide', 'Ricci')]"
            ],
            "text/html": [
              "<table>\n",
              "    <thead>\n",
              "        <tr>\n",
              "            <th>id</th>\n",
              "            <th>nome</th>\n",
              "            <th>cognome</th>\n",
              "        </tr>\n",
              "    </thead>\n",
              "    <tbody>\n",
              "        <tr>\n",
              "            <td>5</td>\n",
              "            <td>Marco</td>\n",
              "            <td>Gallo</td>\n",
              "        </tr>\n",
              "        <tr>\n",
              "            <td>8</td>\n",
              "            <td>Francesca</td>\n",
              "            <td>De Luca</td>\n",
              "        </tr>\n",
              "        <tr>\n",
              "            <td>11</td>\n",
              "            <td>Paolo</td>\n",
              "            <td>Mancini</td>\n",
              "        </tr>\n",
              "        <tr>\n",
              "            <td>13</td>\n",
              "            <td>Fabio</td>\n",
              "            <td>Conti</td>\n",
              "        </tr>\n",
              "        <tr>\n",
              "            <td>15</td>\n",
              "            <td>Davide</td>\n",
              "            <td>Ricci</td>\n",
              "        </tr>\n",
              "    </tbody>\n",
              "</table>"
            ]
          },
          "metadata": {},
          "execution_count": 63
        }
      ]
    },
    {
      "cell_type": "code",
      "source": [
        "# Chi ha il lavoro più pagato\n",
        "\n",
        "%%sql\n",
        "SELECT p.id, p.nome, p.cognome, o.lavoro, o.stipendio\n",
        "FROM persone p\n",
        "JOIN occupazione o ON p.id = o.persona_id\n",
        "WHERE o.stipendio = (SELECT MAX(stipendio) FROM occupazione);"
      ],
      "metadata": {
        "colab": {
          "base_uri": "https://localhost:8080/",
          "height": 95
        },
        "id": "M4bC6jkq0o8T",
        "outputId": "9202fd87-9069-4932-ec46-99f982232653"
      },
      "execution_count": 64,
      "outputs": [
        {
          "output_type": "stream",
          "name": "stdout",
          "text": [
            " * sqlite:///database_prova.db\n",
            "Done.\n"
          ]
        },
        {
          "output_type": "execute_result",
          "data": {
            "text/plain": [
              "[(3, 'Giovanni', 'Verdi', 'Medico', 5000)]"
            ],
            "text/html": [
              "<table>\n",
              "    <thead>\n",
              "        <tr>\n",
              "            <th>id</th>\n",
              "            <th>nome</th>\n",
              "            <th>cognome</th>\n",
              "            <th>lavoro</th>\n",
              "            <th>stipendio</th>\n",
              "        </tr>\n",
              "    </thead>\n",
              "    <tbody>\n",
              "        <tr>\n",
              "            <td>3</td>\n",
              "            <td>Giovanni</td>\n",
              "            <td>Verdi</td>\n",
              "            <td>Medico</td>\n",
              "            <td>5000</td>\n",
              "        </tr>\n",
              "    </tbody>\n",
              "</table>"
            ]
          },
          "metadata": {},
          "execution_count": 64
        }
      ]
    }
  ]
}